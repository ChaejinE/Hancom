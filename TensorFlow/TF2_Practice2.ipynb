{
 "cells": [
  {
   "cell_type": "code",
   "execution_count": 19,
   "id": "43657f0f",
   "metadata": {},
   "outputs": [
    {
     "name": "stdout",
     "output_type": "stream",
     "text": [
      "[5 0 4 1 9 2 1 3 1 4] [7 2 1 0 4 1 4 9 5 9]\n",
      "Epoch 1/15\n",
      "1500/1500 [==============================] - 16s 11ms/step - loss: 0.3202 - accuracy: 0.9068 - val_loss: 0.1527 - val_accuracy: 0.9570\n",
      "Epoch 2/15\n",
      "1500/1500 [==============================] - 14s 10ms/step - loss: 0.1533 - accuracy: 0.9552 - val_loss: 0.1082 - val_accuracy: 0.9703\n",
      "Epoch 3/15\n",
      "1500/1500 [==============================] - 14s 9ms/step - loss: 0.1148 - accuracy: 0.9645 - val_loss: 0.0959 - val_accuracy: 0.9715\n",
      "Epoch 4/15\n",
      "1500/1500 [==============================] - 14s 10ms/step - loss: 0.0945 - accuracy: 0.9708 - val_loss: 0.0911 - val_accuracy: 0.9723\n",
      "Epoch 5/15\n",
      "1500/1500 [==============================] - 14s 9ms/step - loss: 0.0794 - accuracy: 0.9749 - val_loss: 0.0797 - val_accuracy: 0.9753\n",
      "Epoch 6/15\n",
      "1500/1500 [==============================] - 15s 10ms/step - loss: 0.0698 - accuracy: 0.9777 - val_loss: 0.0824 - val_accuracy: 0.9754\n",
      "Epoch 7/15\n",
      "1500/1500 [==============================] - 14s 9ms/step - loss: 0.0594 - accuracy: 0.9810 - val_loss: 0.0800 - val_accuracy: 0.9766\n",
      "Epoch 8/15\n",
      "1500/1500 [==============================] - 14s 9ms/step - loss: 0.0546 - accuracy: 0.9827 - val_loss: 0.0826 - val_accuracy: 0.9771\n",
      "Epoch 9/15\n",
      "1500/1500 [==============================] - 14s 10ms/step - loss: 0.0507 - accuracy: 0.9833 - val_loss: 0.0748 - val_accuracy: 0.9778\n",
      "Epoch 10/15\n",
      "1500/1500 [==============================] - 14s 10ms/step - loss: 0.0443 - accuracy: 0.9856 - val_loss: 0.0776 - val_accuracy: 0.9783\n",
      "Epoch 11/15\n",
      "1500/1500 [==============================] - 15s 10ms/step - loss: 0.0406 - accuracy: 0.9861 - val_loss: 0.0758 - val_accuracy: 0.9793\n",
      "Epoch 12/15\n",
      "1500/1500 [==============================] - 15s 10ms/step - loss: 0.0399 - accuracy: 0.9869 - val_loss: 0.0821 - val_accuracy: 0.9774\n",
      "Epoch 13/15\n",
      "1500/1500 [==============================] - 14s 9ms/step - loss: 0.0340 - accuracy: 0.9883 - val_loss: 0.0749 - val_accuracy: 0.9805\n",
      "Epoch 14/15\n",
      "1500/1500 [==============================] - 14s 9ms/step - loss: 0.0345 - accuracy: 0.9884 - val_loss: 0.0806 - val_accuracy: 0.9791\n",
      "Epoch 15/15\n",
      "1500/1500 [==============================] - 14s 9ms/step - loss: 0.0330 - accuracy: 0.9888 - val_loss: 0.0826 - val_accuracy: 0.9783\n",
      "313/313 - 2s - loss: 0.0668 - accuracy: 0.9806\n"
     ]
    }
   ],
   "source": [
    "import tensorflow as tf\n",
    "mnist = tf.keras.datasets.mnist\n",
    "(x_train, y_train), (x_test, y_test) = mnist.load_data()\n",
    "x_test, x_train = x_test / 255., x_train / 255.\n",
    "print(y_train[:10], y_test[:10])\n",
    "training_epochs = 15\n",
    "\n",
    "model = tf.keras.models.Sequential([\n",
    "    tf.keras.layers.Flatten(input_shape=(28, 28)),\n",
    "    tf.keras.layers.Dense(128, activation=\"relu\"),\n",
    "    tf.keras.layers.Dropout(.2),\n",
    "    tf.keras.layers.Dense(10, activation=\"softmax\")\n",
    "])\n",
    "\n",
    "model.compile(optimizer=\"adam\", loss=\"sparse_categorical_crossentropy\",\n",
    "              metrics=[\"accuracy\"])\n",
    "h = model.fit(x_train, y_train, epochs=training_epochs, validation_split=0.2)\n",
    "score = model.evaluate(x_test, y_test, verbose=2)"
   ]
  },
  {
   "cell_type": "code",
   "execution_count": 13,
   "id": "0eccf607",
   "metadata": {},
   "outputs": [
    {
     "name": "stdout",
     "output_type": "stream",
     "text": [
      "1500/1500 [==============================] - 17s 11ms/step - loss: 0.0312 - accuracy: 0.9894 - val_loss: 0.0105 - val_accuracy: 0.9966\n",
      "313/313 - 1s - loss: 0.0761 - accuracy: 0.9823\n"
     ]
    }
   ],
   "source": [
    "h = model.fit(x_train, y_train, epochs=1, validation_split=0.2)\n",
    "score = model.evaluate(x_test, y_test, verbose=2)"
   ]
  },
  {
   "cell_type": "code",
   "execution_count": 20,
   "id": "9994e445",
   "metadata": {},
   "outputs": [
    {
     "data": {
      "image/png": "[encoded data removed]",
      "text/plain": [
       "<Figure size 432x288 with 1 Axes>"
      ]
     },
     "metadata": {
      "needs_background": "light"
     },
     "output_type": "display_data"
    }
   ],
   "source": [
    "import matplotlib.pyplot as plt\n",
    "def vis(h, roi):\n",
    "    plt.plot(h.history[roi])\n",
    "    plt.plot(h.history[\"val_\"+roi])\n",
    "    plt.title(\"Model\" + roi)\n",
    "    plt.xlabel(\"Epoch\")\n",
    "    plt.ylabel(roi.title())\n",
    "    plt.legend([\"Train\", \"Test\"], loc=\"upper left\")\n",
    "    plt.show()\n",
    "vis(h, \"accuracy\")"
   ]
  },
  {
   "cell_type": "code",
   "execution_count": 21,
   "id": "c3b0ef9a",
   "metadata": {},
   "outputs": [
    {
     "data": {
      "image/png": "[encoded data removed]",
      "text/plain": [
       "<Figure size 432x288 with 1 Axes>"
      ]
     },
     "metadata": {
      "needs_background": "light"
     },
     "output_type": "display_data"
    }
   ],
   "source": [
    "vis(h, \"loss\")"
   ]
  },
  {
   "cell_type": "code",
   "execution_count": 22,
   "id": "22cae900",
   "metadata": {},
   "outputs": [
    {
     "data": {
      "text/plain": [
       "<tf.Tensor: shape=(10000,), dtype=int64, numpy=array([7, 2, 1, ..., 4, 5, 6])>"
      ]
     },
     "execution_count": 22,
     "metadata": {},
     "output_type": "execute_result"
    }
   ],
   "source": [
    "tf.argmax(model.predict(x_test), 1)"
   ]
  },
  {
   "cell_type": "code",
   "execution_count": 24,
   "id": "f0ce6daf",
   "metadata": {},
   "outputs": [
    {
     "data": {
      "text/plain": [
       "array([7, 2, 1, ..., 4, 5, 6], dtype=uint8)"
      ]
     },
     "execution_count": 24,
     "metadata": {},
     "output_type": "execute_result"
    }
   ],
   "source": [
    "y_test[:]"
   ]
  },
  {
   "cell_type": "code",
   "execution_count": 25,
   "id": "743f4477",
   "metadata": {},
   "outputs": [
    {
     "data": {
      "text/plain": [
       "(0.06683700531721115, 0.9805999994277954)"
      ]
     },
     "execution_count": 25,
     "metadata": {},
     "output_type": "execute_result"
    }
   ],
   "source": [
    "score[0], score[1] # loss, accuracy"
   ]
  },
  {
   "cell_type": "code",
   "execution_count": null,
   "id": "8834d069",
   "metadata": {},
   "outputs": [],
   "source": []
  }
 ],
 "metadata": {
  "kernelspec": {
   "display_name": "Python 3",
   "language": "python",
   "name": "python3"
  },
  "language_info": {
   "codemirror_mode": {
    "name": "ipython",
    "version": 3
   },
   "file_extension": ".py",
   "mimetype": "text/x-python",
   "name": "python",
   "nbconvert_exporter": "python",
   "pygments_lexer": "ipython3",
   "version": "3.6.9"
  }
 },
 "nbformat": 4,
 "nbformat_minor": 5
}
