{
 "cells": [
  {
   "cell_type": "code",
   "execution_count": 1,
   "id": "efec392a",
   "metadata": {},
   "outputs": [
    {
     "name": "stdout",
     "output_type": "stream",
     "text": [
      "WARNING:tensorflow:Deprecation warnings have been disabled. Set TF_ENABLE_DEPRECATION_WARNINGS=1 to re-enable them.\n"
     ]
    }
   ],
   "source": [
    "import tensorflow as tf"
   ]
  },
  {
   "cell_type": "code",
   "execution_count": 2,
   "id": "74fb0c53",
   "metadata": {},
   "outputs": [
    {
     "data": {
      "text/plain": [
       "'1.15.4'"
      ]
     },
     "execution_count": 2,
     "metadata": {},
     "output_type": "execute_result"
    }
   ],
   "source": [
    "tf.__version__"
   ]
  },
  {
   "cell_type": "markdown",
   "id": "1e8b54b1",
   "metadata": {},
   "source": [
    "# 1. 왜 하는 것이지 ?"
   ]
  },
  {
   "cell_type": "code",
   "execution_count": 5,
   "id": "529dedb8",
   "metadata": {},
   "outputs": [
    {
     "name": "stdout",
     "output_type": "stream",
     "text": [
      "12\n",
      "Hello World\n"
     ]
    }
   ],
   "source": [
    "x = 34 - 23\n",
    "y = \"Hello\"\n",
    "z = 3.45\n",
    "if z == 3.45 or y == \"hello\":\n",
    "    x += 1\n",
    "    y += \" World\"\n",
    "\n",
    "print(x)\n",
    "print(y)"
   ]
  },
  {
   "cell_type": "markdown",
   "id": "b174e7f8",
   "metadata": {},
   "source": [
    "# 2. 키워드에 있는지 확인히는 용도"
   ]
  },
  {
   "cell_type": "code",
   "execution_count": 7,
   "id": "2a434b91",
   "metadata": {},
   "outputs": [
    {
     "data": {
      "text/plain": [
       "True"
      ]
     },
     "execution_count": 7,
     "metadata": {},
     "output_type": "execute_result"
    }
   ],
   "source": [
    "from keyword import kwlist\n",
    "\"try\" in kwlist"
   ]
  },
  {
   "cell_type": "markdown",
   "id": "3e6fde75",
   "metadata": {},
   "source": [
    "# 3. 참조"
   ]
  },
  {
   "cell_type": "code",
   "execution_count": 8,
   "id": "f9650609",
   "metadata": {},
   "outputs": [
    {
     "data": {
      "text/plain": [
       "[1, 2, 3, 4]"
      ]
     },
     "execution_count": 8,
     "metadata": {},
     "output_type": "execute_result"
    }
   ],
   "source": [
    "a = [1, 2, 3]\n",
    "b = a\n",
    "a.append(4)\n",
    "b"
   ]
  },
  {
   "cell_type": "code",
   "execution_count": 11,
   "id": "30b5669e",
   "metadata": {},
   "outputs": [
    {
     "data": {
      "text/plain": [
       "[1, 2, 3]"
      ]
     },
     "execution_count": 11,
     "metadata": {},
     "output_type": "execute_result"
    }
   ],
   "source": [
    "a = [1, 2, 3]\n",
    "b = a.copy()\n",
    "a.append(4)\n",
    "b"
   ]
  },
  {
   "cell_type": "code",
   "execution_count": 14,
   "id": "dc722789",
   "metadata": {},
   "outputs": [
    {
     "data": {
      "text/plain": [
       "[1, 2, 3]"
      ]
     },
     "execution_count": 14,
     "metadata": {},
     "output_type": "execute_result"
    }
   ],
   "source": [
    "b"
   ]
  },
  {
   "cell_type": "code",
   "execution_count": 15,
   "id": "9011fc62",
   "metadata": {},
   "outputs": [],
   "source": [
    "import copy\n",
    "a = [1, 2, 3]"
   ]
  },
  {
   "cell_type": "code",
   "execution_count": 16,
   "id": "67157faa",
   "metadata": {},
   "outputs": [
    {
     "data": {
      "text/plain": [
       "[1, 2, 3]"
      ]
     },
     "execution_count": 16,
     "metadata": {},
     "output_type": "execute_result"
    }
   ],
   "source": [
    "b = copy.deepcopy(a)\n",
    "a.append(4)\n",
    "b"
   ]
  },
  {
   "cell_type": "code",
   "execution_count": 18,
   "id": "61c1532b",
   "metadata": {},
   "outputs": [
    {
     "data": {
      "text/plain": [
       "[1, 2, 3]"
      ]
     },
     "execution_count": 18,
     "metadata": {},
     "output_type": "execute_result"
    }
   ],
   "source": [
    "a = [1, 2, 3]\n",
    "b = a[:]\n",
    "a.append(4)\n",
    "b"
   ]
  },
  {
   "cell_type": "markdown",
   "id": "0d4eff9a",
   "metadata": {},
   "source": [
    "# 4. Mutable VS Immutable"
   ]
  },
  {
   "cell_type": "code",
   "execution_count": 21,
   "id": "cce36d6a",
   "metadata": {},
   "outputs": [],
   "source": [
    "tu = (23, \"abc\", 4.56, (2, 3), \"def\")\n",
    "li = [\"abc\", 34, 4.34, 23]\n",
    "li[2] = 3.14"
   ]
  },
  {
   "cell_type": "code",
   "execution_count": 22,
   "id": "1dd1ce3b",
   "metadata": {},
   "outputs": [
    {
     "data": {
      "text/plain": [
       "['abc', 34, 3.14, 23]"
      ]
     },
     "execution_count": 22,
     "metadata": {},
     "output_type": "execute_result"
    }
   ],
   "source": [
    "li"
   ]
  },
  {
   "cell_type": "code",
   "execution_count": 25,
   "id": "b210c790",
   "metadata": {},
   "outputs": [
    {
     "data": {
      "text/plain": [
       "(23, 'abc', 3.14, (2, 3), 'def')"
      ]
     },
     "execution_count": 25,
     "metadata": {},
     "output_type": "execute_result"
    }
   ],
   "source": [
    "# tuple값 바꾸기\n",
    "tu = list(tu) \n",
    "tu[2] = 3.14\n",
    "tu = tuple(tu)\n",
    "tu"
   ]
  },
  {
   "cell_type": "code",
   "execution_count": 1,
   "id": "b80a996b",
   "metadata": {},
   "outputs": [],
   "source": [
    "tu = (23, \"abc\", 4.56, (2, 3), \"def\")\n",
    "li = [\"abc\", 34, 4.34, 23]\n",
    "li[2] = 3.14"
   ]
  },
  {
   "cell_type": "code",
   "execution_count": 2,
   "id": "ddd791b8",
   "metadata": {},
   "outputs": [
    {
     "data": {
      "text/plain": [
       "(23, 'abc', 3.14, (2, 3), 'def')"
      ]
     },
     "execution_count": 2,
     "metadata": {},
     "output_type": "execute_result"
    }
   ],
   "source": [
    "tu = tu[:2] + (3.14,) + tu[3:] # equal -> tu = tu[:-3] + (3.14,) + tu[-2:]\n",
    "tu"
   ]
  },
  {
   "cell_type": "markdown",
   "id": "8207b6c3",
   "metadata": {},
   "source": [
    "# 5. in"
   ]
  },
  {
   "cell_type": "code",
   "execution_count": 3,
   "id": "c6a82eda",
   "metadata": {},
   "outputs": [
    {
     "data": {
      "text/plain": [
       "'def'"
      ]
     },
     "execution_count": 3,
     "metadata": {},
     "output_type": "execute_result"
    }
   ],
   "source": [
    "tu[-1]"
   ]
  },
  {
   "cell_type": "code",
   "execution_count": 4,
   "id": "5f38fa7e",
   "metadata": {},
   "outputs": [
    {
     "data": {
      "text/plain": [
       "False"
      ]
     },
     "execution_count": 4,
     "metadata": {},
     "output_type": "execute_result"
    }
   ],
   "source": [
    "(\"abc\", 3.14) in tu"
   ]
  },
  {
   "cell_type": "code",
   "execution_count": 5,
   "id": "3a6fe84f",
   "metadata": {},
   "outputs": [
    {
     "data": {
      "text/plain": [
       "False"
      ]
     },
     "execution_count": 5,
     "metadata": {},
     "output_type": "execute_result"
    }
   ],
   "source": [
    "a = \"abcde\"\n",
    "\"ac\" in a"
   ]
  },
  {
   "cell_type": "code",
   "execution_count": 7,
   "id": "71cfbb5c",
   "metadata": {},
   "outputs": [
    {
     "data": {
      "text/plain": [
       "True"
      ]
     },
     "execution_count": 7,
     "metadata": {},
     "output_type": "execute_result"
    }
   ],
   "source": [
    "# 문자알이 연속일 때만 된다.\n",
    "a = \"abcde\"\n",
    "\"ab\" in a"
   ]
  },
  {
   "cell_type": "markdown",
   "id": "014c77cf",
   "metadata": {},
   "source": [
    "# 6. List"
   ]
  },
  {
   "cell_type": "code",
   "execution_count": 8,
   "id": "aae3bc4c",
   "metadata": {},
   "outputs": [
    {
     "data": {
      "text/plain": [
       "(1, 2, 3, 4, 5, 6)"
      ]
     },
     "execution_count": 8,
     "metadata": {},
     "output_type": "execute_result"
    }
   ],
   "source": [
    "(1, 2, 3,) + (4, 5, 6)"
   ]
  },
  {
   "cell_type": "code",
   "execution_count": 9,
   "id": "99a7016e",
   "metadata": {},
   "outputs": [
    {
     "data": {
      "text/plain": [
       "[1, 2, 3, 4, 5, 6]"
      ]
     },
     "execution_count": 9,
     "metadata": {},
     "output_type": "execute_result"
    }
   ],
   "source": [
    "[1, 2, 3] + [4, 5, 6]"
   ]
  },
  {
   "cell_type": "code",
   "execution_count": 22,
   "id": "a540e281",
   "metadata": {},
   "outputs": [
    {
     "data": {
      "text/plain": [
       "[5, 7, 9]"
      ]
     },
     "execution_count": 22,
     "metadata": {},
     "output_type": "execute_result"
    }
   ],
   "source": [
    "a = [1, 2, 3]\n",
    "b = [4, 5, 6]\n",
    "c = [a[i] + b[i] for i in range(len(a))]\n",
    "c"
   ]
  },
  {
   "cell_type": "code",
   "execution_count": 19,
   "id": "f263fedd",
   "metadata": {},
   "outputs": [
    {
     "data": {
      "text/plain": [
       "[5, 7, 9]"
      ]
     },
     "execution_count": 19,
     "metadata": {},
     "output_type": "execute_result"
    }
   ],
   "source": [
    "d = list(map(lambda x, y: x + y, a, b))\n",
    "d"
   ]
  },
  {
   "cell_type": "markdown",
   "id": "a90e4542",
   "metadata": {},
   "source": [
    "# 7. Dict"
   ]
  },
  {
   "cell_type": "code",
   "execution_count": 23,
   "id": "5715dcea",
   "metadata": {},
   "outputs": [
    {
     "data": {
      "text/plain": [
       "'bozo'"
      ]
     },
     "execution_count": 23,
     "metadata": {},
     "output_type": "execute_result"
    }
   ],
   "source": [
    "d = { \"user\":\"bozo\", \"pswd\":1234 }\n",
    "d[\"user\"]"
   ]
  },
  {
   "cell_type": "code",
   "execution_count": 24,
   "id": "4d5486b0",
   "metadata": {},
   "outputs": [
    {
     "data": {
      "text/plain": [
       "1234"
      ]
     },
     "execution_count": 24,
     "metadata": {},
     "output_type": "execute_result"
    }
   ],
   "source": [
    "d[\"pswd\"]"
   ]
  },
  {
   "cell_type": "code",
   "execution_count": 26,
   "id": "b0a76b38",
   "metadata": {},
   "outputs": [
    {
     "data": {
      "text/plain": [
       "'clown'"
      ]
     },
     "execution_count": 26,
     "metadata": {},
     "output_type": "execute_result"
    }
   ],
   "source": [
    "d[\"user\"] = \"clown\"\n",
    "d[\"user\"]"
   ]
  },
  {
   "cell_type": "code",
   "execution_count": 27,
   "id": "b9974853",
   "metadata": {},
   "outputs": [
    {
     "data": {
      "text/plain": [
       "{'pswd': 1234, 'id': 'user'}"
      ]
     },
     "execution_count": 27,
     "metadata": {},
     "output_type": "execute_result"
    }
   ],
   "source": [
    "d[\"id\"] = \"user\"\n",
    "del d[\"user\"]\n",
    "d"
   ]
  },
  {
   "cell_type": "code",
   "execution_count": 29,
   "id": "d0e0f050",
   "metadata": {},
   "outputs": [
    {
     "data": {
      "text/plain": [
       "{}"
      ]
     },
     "execution_count": 29,
     "metadata": {},
     "output_type": "execute_result"
    }
   ],
   "source": [
    "d.clear()\n",
    "d"
   ]
  },
  {
   "cell_type": "markdown",
   "id": "0e94691a",
   "metadata": {},
   "source": [
    "# 8. Function"
   ]
  },
  {
   "cell_type": "code",
   "execution_count": 30,
   "id": "63f83ad1",
   "metadata": {},
   "outputs": [
    {
     "data": {
      "text/plain": [
       "6"
      ]
     },
     "execution_count": 30,
     "metadata": {},
     "output_type": "execute_result"
    }
   ],
   "source": [
    "def times(x, y):\n",
    "    return x*y\n",
    "times(2, 3)"
   ]
  },
  {
   "cell_type": "code",
   "execution_count": 32,
   "id": "3d676c2c",
   "metadata": {},
   "outputs": [
    {
     "name": "stdout",
     "output_type": "stream",
     "text": [
      "a:5, b:['hi', 1, 2, 3]\n"
     ]
    }
   ],
   "source": [
    "def change(x, y):\n",
    "    x = 2\n",
    "    y[0] = \"hi\"\n",
    "    \n",
    "a = 5\n",
    "b = [\"heewook\", 1, 2, 3]\n",
    "change(a, b)\n",
    "print(f\"a:{a}, b:{b}\")"
   ]
  },
  {
   "cell_type": "code",
   "execution_count": 35,
   "id": "cfa3507d",
   "metadata": {},
   "outputs": [
    {
     "name": "stdout",
     "output_type": "stream",
     "text": [
      "a:5, b:['heewook', 1, 2, 3]\n"
     ]
    }
   ],
   "source": [
    "import copy\n",
    "a = 5\n",
    "b = [\"heewook\", 1, 2, 3]\n",
    "change(copy.deepcopy(a), copy.deepcopy(b))\n",
    "print(f\"a:{a}, b:{b}\")"
   ]
  },
  {
   "cell_type": "code",
   "execution_count": 37,
   "id": "034100b4",
   "metadata": {},
   "outputs": [
    {
     "name": "stdout",
     "output_type": "stream",
     "text": [
      "a:5, b:['heewook', 1, 2, 3]\n"
     ]
    }
   ],
   "source": [
    "a = 5\n",
    "b = [\"heewook\", 1, 2, 3]\n",
    "change(a, b[:])\n",
    "print(f\"a:{a}, b:{b}\")"
   ]
  },
  {
   "cell_type": "markdown",
   "id": "eb7b0feb",
   "metadata": {},
   "source": [
    "# 9. range"
   ]
  },
  {
   "cell_type": "code",
   "execution_count": 47,
   "id": "04952559",
   "metadata": {},
   "outputs": [
    {
     "name": "stdout",
     "output_type": "stream",
     "text": [
      "1.35 µs ± 14.4 ns per loop (mean ± std. dev. of 7 runs, 1000000 loops each)\n"
     ]
    }
   ],
   "source": [
    "%timeit list(range(15, 4, -5))"
   ]
  },
  {
   "cell_type": "code",
   "execution_count": 48,
   "id": "92f42410",
   "metadata": {},
   "outputs": [
    {
     "name": "stdout",
     "output_type": "stream",
     "text": [
      "1.67 µs ± 9.31 ns per loop (mean ± std. dev. of 7 runs, 1000000 loops each)\n"
     ]
    }
   ],
   "source": [
    "%timeit [i for i in range(15, 4, -5)]"
   ]
  },
  {
   "cell_type": "code",
   "execution_count": 46,
   "id": "fce46ad2",
   "metadata": {},
   "outputs": [
    {
     "data": {
      "text/plain": [
       "[4, 6, 8, 10, 12, 14, 16, 18, 20]"
      ]
     },
     "execution_count": 46,
     "metadata": {},
     "output_type": "execute_result"
    }
   ],
   "source": [
    "list(range(4, 21, 2))"
   ]
  },
  {
   "cell_type": "code",
   "execution_count": 50,
   "id": "50e572ec",
   "metadata": {},
   "outputs": [
    {
     "name": "stdout",
     "output_type": "stream",
     "text": [
      "Still in the loop.\n",
      "Still in the loop.\n",
      "Still in the loop.\n",
      "Still in the loop.\n",
      "Still in the loop.\n",
      "Still in the loop.\n",
      "Still in the loop.\n",
      "Still in the loop.\n",
      "Outside of the loop.   8\n"
     ]
    }
   ],
   "source": [
    "for x in range(10):\n",
    "    if x > 7:\n",
    "        x += 2\n",
    "        continue\n",
    "    \n",
    "    x += 1\n",
    "    print(\"Still in the loop.\")\n",
    "    if x == 8:\n",
    "        break\n",
    "        \n",
    "print(\"Outside of the loop.  \", x)"
   ]
  },
  {
   "cell_type": "code",
   "execution_count": 59,
   "id": "39e9a04c",
   "metadata": {},
   "outputs": [
    {
     "name": "stdout",
     "output_type": "stream",
     "text": [
      "Still in the loop.\n",
      "Still in the loop.\n",
      "Still in the loop.\n",
      "Still in the loop.\n",
      "Still in the loop.\n",
      "Still in the loop.\n",
      "Still in the loop.\n",
      "Still in the loop.\n",
      "Outside of t he loop.    8\n"
     ]
    }
   ],
   "source": [
    "x = 0\n",
    "while (x < 8):\n",
    "    if x > 7:\n",
    "        x += 2\n",
    "        continue\n",
    "    x += 1\n",
    "    print(\"Still in the loop.\")\n",
    "\n",
    "print(\"Outside of t he loop.   \", x)"
   ]
  },
  {
   "cell_type": "code",
   "execution_count": 52,
   "id": "01e303ec",
   "metadata": {},
   "outputs": [
    {
     "name": "stdout",
     "output_type": "stream",
     "text": [
      "Hello Sam\n",
      "Hello Pit\n",
      "Hello Misch\n"
     ]
    }
   ],
   "source": [
    "mynames = [\"Sam\", \"Pit\", \"Misch\"]\n",
    "for n in mynames:\n",
    "    print(f\"Hello {n}\")"
   ]
  },
  {
   "cell_type": "code",
   "execution_count": 56,
   "id": "30cb6e0d",
   "metadata": {},
   "outputs": [
    {
     "name": "stdout",
     "output_type": "stream",
     "text": [
      "num_list : [0, 1, 2, 3, 4, 5, 6, 7, 8, 9]\n",
      "num_dict : {65: 'A', 66: 'B', 67: 'C'}\n",
      "num_set : {'A', 'C', 'B'}\n"
     ]
    }
   ],
   "source": [
    "num_list = list(range(10))\n",
    "num_list = [i for i in range(10)]\n",
    "num_dict = {i:chr(i) for i in range(65, 68)}\n",
    "num_set = {chr(i) for i in range(65, 68)}\n",
    "print(f\"num_list : {num_list}\\nnum_dict : {num_dict}\\nnum_set : {num_set}\")\n",
    "# immutable 자라형들은 제네레에테로 만들어저며 해당 식을 가진 채로 next로 호출된다.\""
   ]
  },
  {
   "cell_type": "markdown",
   "id": "bc3be933",
   "metadata": {},
   "source": [
    "# 7. Module"
   ]
  },
  {
   "cell_type": "code",
   "execution_count": 60,
   "id": "7c7a2fe4",
   "metadata": {},
   "outputs": [],
   "source": [
    "import bar"
   ]
  },
  {
   "cell_type": "code",
   "execution_count": 64,
   "id": "d3b32cbb",
   "metadata": {},
   "outputs": [
    {
     "data": {
      "text/plain": [
       "'Linguistics'"
      ]
     },
     "execution_count": 64,
     "metadata": {},
     "output_type": "execute_result"
    }
   ],
   "source": [
    "bar.department"
   ]
  },
  {
   "cell_type": "code",
   "execution_count": 65,
   "id": "ca839293",
   "metadata": {},
   "outputs": [
    {
     "data": {
      "text/plain": [
       "'UMass'"
      ]
     },
     "execution_count": 65,
     "metadata": {},
     "output_type": "execute_result"
    }
   ],
   "source": [
    "bar.university"
   ]
  },
  {
   "cell_type": "code",
   "execution_count": 66,
   "id": "18e39764",
   "metadata": {},
   "outputs": [],
   "source": [
    "from bar import university, department"
   ]
  },
  {
   "cell_type": "code",
   "execution_count": 67,
   "id": "58c7f9d2",
   "metadata": {},
   "outputs": [
    {
     "data": {
      "text/plain": [
       "('UMass', 'Linguistics')"
      ]
     },
     "execution_count": 67,
     "metadata": {},
     "output_type": "execute_result"
    }
   ],
   "source": [
    "university, department"
   ]
  },
  {
   "cell_type": "markdown",
   "id": "5ee3ed7f",
   "metadata": {},
   "source": [
    "# 8. TensorFlow"
   ]
  },
  {
   "cell_type": "code",
   "execution_count": 68,
   "id": "ef26a69e",
   "metadata": {},
   "outputs": [
    {
     "name": "stdout",
     "output_type": "stream",
     "text": [
      "WARNING:tensorflow:Deprecation warnings have been disabled. Set TF_ENABLE_DEPRECATION_WARNINGS=1 to re-enable them.\n"
     ]
    }
   ],
   "source": [
    "import tensorflow as tf"
   ]
  },
  {
   "cell_type": "code",
   "execution_count": 69,
   "id": "f323a071",
   "metadata": {},
   "outputs": [
    {
     "data": {
      "text/plain": [
       "<tf.Tensor 'Const:0' shape=() dtype=int32>"
      ]
     },
     "execution_count": 69,
     "metadata": {},
     "output_type": "execute_result"
    }
   ],
   "source": [
    "scalar1 = tf.constant(10000)\n",
    "scalar1"
   ]
  },
  {
   "cell_type": "code",
   "execution_count": 70,
   "id": "bea11859",
   "metadata": {},
   "outputs": [
    {
     "data": {
      "text/plain": [
       "<tf.Tensor 'Const_1:0' shape=(5,) dtype=int32>"
      ]
     },
     "execution_count": 70,
     "metadata": {},
     "output_type": "execute_result"
    }
   ],
   "source": [
    "vector1 = tf.constant([1, 2, 3, 4, 5])\n",
    "vector1"
   ]
  },
  {
   "cell_type": "code",
   "execution_count": 72,
   "id": "114daa7a",
   "metadata": {},
   "outputs": [
    {
     "data": {
      "text/plain": [
       "<tf.Tensor 'Const_3:0' shape=(2, 3) dtype=int32>"
      ]
     },
     "execution_count": 72,
     "metadata": {},
     "output_type": "execute_result"
    }
   ],
   "source": [
    "matrix1 = tf.constant([[1,2,3], [4,5,6]])\n",
    "matrix1"
   ]
  },
  {
   "cell_type": "code",
   "execution_count": 74,
   "id": "909cc787",
   "metadata": {},
   "outputs": [
    {
     "data": {
      "text/plain": [
       "<tf.Tensor 'Const_4:0' shape=(3, 3, 1) dtype=int32>"
      ]
     },
     "execution_count": 74,
     "metadata": {},
     "output_type": "execute_result"
    }
   ],
   "source": [
    "cube1 = tf.constant([[[1], [2], [3]], [[4],[5],[6]], [[7],[8],[9]]])\n",
    "cube1"
   ]
  },
  {
   "cell_type": "code",
   "execution_count": 83,
   "id": "2938cc4c",
   "metadata": {},
   "outputs": [
    {
     "data": {
      "text/plain": [
       "3"
      ]
     },
     "execution_count": 83,
     "metadata": {},
     "output_type": "execute_result"
    }
   ],
   "source": [
    "cube1._rank() # rank 확인"
   ]
  },
  {
   "cell_type": "code",
   "execution_count": 79,
   "id": "acfb98cc",
   "metadata": {},
   "outputs": [
    {
     "data": {
      "text/plain": [
       "<tf.Tensor 'Const_9:0' shape=(1, 2) dtype=float32>"
      ]
     },
     "execution_count": 79,
     "metadata": {},
     "output_type": "execute_result"
    }
   ],
   "source": [
    "matrix1 = tf.constant([[3., 3.]])\n",
    "matrix1"
   ]
  },
  {
   "cell_type": "code",
   "execution_count": 80,
   "id": "9cbd0664",
   "metadata": {},
   "outputs": [
    {
     "data": {
      "text/plain": [
       "<tf.Tensor 'Const_10:0' shape=(2, 1) dtype=float32>"
      ]
     },
     "execution_count": 80,
     "metadata": {},
     "output_type": "execute_result"
    }
   ],
   "source": [
    "matrix2 = tf.constant([[2.], [2.]])\n",
    "matrix2"
   ]
  },
  {
   "cell_type": "code",
   "execution_count": 85,
   "id": "810321c0",
   "metadata": {},
   "outputs": [
    {
     "data": {
      "text/plain": [
       "<tf.Tensor 'MatMul_2:0' shape=(1, 1) dtype=float32>"
      ]
     },
     "execution_count": 85,
     "metadata": {},
     "output_type": "execute_result"
    }
   ],
   "source": [
    "product = tf.matmul(matrix1, matrix2)\n",
    "product\n",
    "# Default graph는 constant 2개와 matmul 1개의 노드 즉, 3개의 노도를 갖고 있다."
   ]
  },
  {
   "cell_type": "code",
   "execution_count": 87,
   "id": "8840bf49",
   "metadata": {},
   "outputs": [
    {
     "name": "stdout",
     "output_type": "stream",
     "text": [
      "[[12.]]\n"
     ]
    }
   ],
   "source": [
    "import numpy as np\n",
    "m1 = np.array([[3., 3.]])\n",
    "m2 = np.array([[2.], [2.]])\n",
    "p = np.matmul(m1, m2)\n",
    "print(p)"
   ]
  },
  {
   "cell_type": "code",
   "execution_count": 5,
   "id": "395e91c1",
   "metadata": {},
   "outputs": [
    {
     "name": "stdout",
     "output_type": "stream",
     "text": [
      "[[12.]]\n"
     ]
    }
   ],
   "source": [
    "import tensorflow as tf\n",
    "tf.disable_eager_execution()\n",
    "matrix1 = tf.constant([[3., 3.]])\n",
    "matrix2 = tf.constant([[2.], [2.]])\n",
    "product = tf.matmul(matrix1, matrix2)\n",
    "with tf.Session() as sess:\n",
    "    print(sess.run(product))"
   ]
  },
  {
   "cell_type": "code",
   "execution_count": 2,
   "id": "c5dbeab4",
   "metadata": {},
   "outputs": [
    {
     "data": {
      "text/plain": [
       "<tf.Tensor: id=5, shape=(1, 1), dtype=float32, numpy=array([[12.]], dtype=float32)>"
      ]
     },
     "execution_count": 2,
     "metadata": {},
     "output_type": "execute_result"
    }
   ],
   "source": [
    "import tensorflow as tf\n",
    "# Session 없이 하는 방법 laze mode\n",
    "tf.enable_eager_execution() # tf version 2, multi GPU 에서 쓰면 안된다. session도 안된다.\n",
    "matrix1 = tf.constant([[3., 3.]])\n",
    "matrix2 = tf.constant([[2.], [2.]])\n",
    "product = tf.matmul(matrix1, matrix2)\n",
    "product"
   ]
  },
  {
   "cell_type": "code",
   "execution_count": 3,
   "id": "3513fcaf",
   "metadata": {},
   "outputs": [],
   "source": [
    "tf.disable_eager_execution()"
   ]
  },
  {
   "cell_type": "markdown",
   "id": "431a4d7d",
   "metadata": {},
   "source": [
    "# Rule 1. Variable은 초기화 필수"
   ]
  },
  {
   "cell_type": "code",
   "execution_count": 8,
   "id": "9339c1f8",
   "metadata": {},
   "outputs": [
    {
     "name": "stdout",
     "output_type": "stream",
     "text": [
      "[-2. -1.]\n"
     ]
    }
   ],
   "source": [
    "import tensorflow as tf\n",
    "tf.disable_eager_execution()\n",
    "x = tf.Variable([1., 2.]) # tf.Variable([1., 2.]) -> initializer 필요!\n",
    "a = tf.constant([3., 3.])\n",
    "sub = tf.subtract(x, a)\n",
    "with tf.Session() as sess:\n",
    "    x.initializer.run()\n",
    "    print(sess.run(sub))"
   ]
  },
  {
   "cell_type": "markdown",
   "id": "481bc892",
   "metadata": {},
   "source": [
    "# Rule 2. run(), eval()은 Interactive Session 필요\n",
    "# Rule 3. name 인지에 문자열로 변수명 전달 가능"
   ]
  },
  {
   "cell_type": "code",
   "execution_count": 12,
   "id": "4b18ab28",
   "metadata": {},
   "outputs": [
    {
     "name": "stdout",
     "output_type": "stream",
     "text": [
      "[-2. -1.]\n",
      "[-2. -1.]\n",
      "<tf.Variable 'x:0' shape=(2,) dtype=float32_ref>\n",
      "Tensor(\"a:0\", shape=(2,), dtype=float32)\n"
     ]
    }
   ],
   "source": [
    "import tensorflow as tf\n",
    "tf.disable_eager_execution()\n",
    "x = tf.Variable([1., 2.], name='x') # tf.Variable([1., 2.]) -> initializer 필요!\n",
    "a = tf.constant([3., 3.], name='a') # x, y 는 python에서 인식하는 Variable name을 줘서 인식하도록한다.\n",
    "sub = tf.subtract(x, a)\n",
    "sess = tf.InteractiveSession()\n",
    "x.initializer.run()\n",
    "print(sess.run(sub))\n",
    "print(sub.eval())\n",
    "print(x) # ㅆ가능\n",
    "print(a)\n",
    "sess.close()"
   ]
  },
  {
   "cell_type": "code",
   "execution_count": 13,
   "id": "9b8db075",
   "metadata": {},
   "outputs": [
    {
     "name": "stdout",
     "output_type": "stream",
     "text": [
      "0\n",
      "1\n",
      "2\n",
      "3\n"
     ]
    }
   ],
   "source": [
    "state = tf.Variable(0, name = \"counter\")\n",
    "one = tf.constant(1)\n",
    "new_value = tf.add(state, one)\n",
    "update = tf.assign(state, new_value)\n",
    "init_op = tf.global_variables_initializer()\n",
    "with tf.Session() as sess:\n",
    "    sess.run(init_op)\n",
    "    print(sess.run(state))\n",
    "    for _ in range(3):\n",
    "        sess.run(update)\n",
    "        print(sess.run(state))"
   ]
  },
  {
   "cell_type": "code",
   "execution_count": 15,
   "id": "2f86b182",
   "metadata": {},
   "outputs": [
    {
     "name": "stdout",
     "output_type": "stream",
     "text": [
      "0\n",
      "2\n",
      "4\n",
      "6\n"
     ]
    }
   ],
   "source": [
    "state = tf.Variable(0, name = \"counter\")\n",
    "one = tf.constant(2)\n",
    "new_value = tf.add(state, one)\n",
    "update = tf.assign(state, new_value)\n",
    "init_op = tf.global_variables_initializer()\n",
    "with tf.Session() as sess:\n",
    "    sess.run(init_op)\n",
    "    print(sess.run(state))\n",
    "    for _ in range(3):\n",
    "        sess.run(update)\n",
    "        print(sess.run(state))"
   ]
  },
  {
   "cell_type": "code",
   "execution_count": null,
   "id": "581c3ccc",
   "metadata": {},
   "outputs": [],
   "source": []
  }
 ],
 "metadata": {
  "kernelspec": {
   "display_name": "Python 3",
   "language": "python",
   "name": "python3"
  },
  "language_info": {
   "codemirror_mode": {
    "name": "ipython",
    "version": 3
   },
   "file_extension": ".py",
   "mimetype": "text/x-python",
   "name": "python",
   "nbconvert_exporter": "python",
   "pygments_lexer": "ipython3",
   "version": "3.6.9"
  }
 },
 "nbformat": 4,
 "nbformat_minor": 5
}
