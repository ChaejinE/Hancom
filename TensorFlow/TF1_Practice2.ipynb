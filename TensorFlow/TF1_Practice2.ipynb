{
 "cells": [
  {
   "cell_type": "markdown",
   "id": "cdbd8f3d",
   "metadata": {},
   "source": [
    "# Saver 1"
   ]
  },
  {
   "cell_type": "code",
   "execution_count": 11,
   "id": "ffa360e0",
   "metadata": {},
   "outputs": [
    {
     "name": "stdout",
     "output_type": "stream",
     "text": [
      "Model saved in file : /tmp/model1.ckpt\n"
     ]
    }
   ],
   "source": [
    "import tensorflow as tf\n",
    "state1 = tf.Variable(0, name = \"state1\")\n",
    "state2 = tf.Variable(10, name = \"state2\")\n",
    "init_op = tf.global_variables_initializer()\n",
    "saver = tf.train.Saver()\n",
    "with tf.Session() as sess:\n",
    "    sess.run(init_op)\n",
    "    save_path = saver.save(sess, \"/tmp/model1.ckpt\")\n",
    "    print(f\"Model saved in file : {save_path}\")"
   ]
  },
  {
   "cell_type": "markdown",
   "id": "bac57ec9",
   "metadata": {},
   "source": [
    "# Saver 2"
   ]
  },
  {
   "cell_type": "code",
   "execution_count": 10,
   "id": "cc6405a6",
   "metadata": {},
   "outputs": [
    {
     "name": "stdout",
     "output_type": "stream",
     "text": [
      "Model saved in file : /tmp/model2.ckpt\n"
     ]
    }
   ],
   "source": [
    "import tensorflow as tf\n",
    "state1 = tf.Variable(0, name = \"state1\")\n",
    "state2 = tf.Variable(10, name = \"state2\")\n",
    "init_op = tf.global_variables_initializer()\n",
    "saver = tf.train.Saver({\"mys2\":state2})\n",
    "with tf.Session() as sess:\n",
    "    sess.run(init_op)\n",
    "    save_path = saver.save(sess, \"/tmp/model2.ckpt\")\n",
    "    print(f\"Model saved in file : {save_path}\")"
   ]
  },
  {
   "cell_type": "markdown",
   "id": "ee8e6ad3",
   "metadata": {},
   "source": [
    "# Restore"
   ]
  },
  {
   "cell_type": "code",
   "execution_count": 2,
   "id": "4b3ab4fd",
   "metadata": {},
   "outputs": [
    {
     "name": "stdout",
     "output_type": "stream",
     "text": [
      "INFO:tensorflow:Restoring parameters from /tmp/model.ckpt\n",
      "Model restored from file\n",
      "10\n"
     ]
    }
   ],
   "source": [
    "import tensorflow as tf\n",
    "state1 = tf.Variable(0, name = \"state1\")\n",
    "state2 = tf.Variable(5, name = \"state2\")\n",
    "# one = tf.constant(1)\n",
    "# new_value = tf.add(state2, one)\n",
    "# update = tf.assign(state2, new_value)\n",
    "init_op = tf.global_variables_initializer()\n",
    "saver = tf.train.Saver()\n",
    "with tf.Session() as sess:\n",
    "    sess.run(init_op)\n",
    "    saver.restore(sess, \"/tmp/model.ckpt\")\n",
    "    print(\"Model restored from file\")\n",
    "    print(sess.run(state2))"
   ]
  },
  {
   "cell_type": "code",
   "execution_count": 3,
   "id": "110ffd01",
   "metadata": {},
   "outputs": [
    {
     "name": "stdout",
     "output_type": "stream",
     "text": [
      "INFO:tensorflow:Restoring parameters from /tmp/model.ckpt\n",
      "Model restored from file\n",
      "5\n"
     ]
    }
   ],
   "source": [
    "import tensorflow as tf\n",
    "state1 = tf.Variable(0, name = \"state1\")\n",
    "state2 = tf.Variable(5, name = \"state2\")\n",
    "# one = tf.constant(1)\n",
    "# new_value = tf.add(state2, one)\n",
    "# update = tf.assign(state2, new_value)\n",
    "init_op = tf.global_variables_initializer()\n",
    "saver = tf.train.Saver()\n",
    "with tf.Session() as sess:\n",
    "    saver.restore(sess, \"/tmp/model.ckpt\")\n",
    "    print(\"Model restored from file\")\n",
    "    sess.run(init_op)\n",
    "    print(sess.run(state2))"
   ]
  },
  {
   "cell_type": "markdown",
   "id": "5cc06b34",
   "metadata": {},
   "source": [
    "# Saver and Restore"
   ]
  },
  {
   "cell_type": "code",
   "execution_count": 6,
   "id": "3f2a34d8",
   "metadata": {},
   "outputs": [
    {
     "name": "stdout",
     "output_type": "stream",
     "text": [
      "Model saved in file : /tmp/model1.ckpt\n",
      "11\n"
     ]
    }
   ],
   "source": [
    "import tensorflow as tf\n",
    "state1 = tf.Variable(0, name = \"state1\")\n",
    "state2 = tf.Variable(10, name = \"state2\")\n",
    "init_op = tf.global_variables_initializer()\n",
    "saver = tf.train.Saver({\"mys2\":state2})\n",
    "one = tf.constant(1)\n",
    "new_value = tf.add(state2, one)\n",
    "update = tf.assign(state2, new_value)\n",
    "with tf.Session() as sess:\n",
    "    sess.run(init_op)\n",
    "    sess.run(update)\n",
    "    save_path = saver.save(sess, \"/tmp/model1.ckpt\")\n",
    "    print(f\"Model saved in file : {save_path}\")\n",
    "    print(sess.run(state2))"
   ]
  },
  {
   "cell_type": "code",
   "execution_count": 1,
   "id": "b20f71a7",
   "metadata": {},
   "outputs": [
    {
     "name": "stdout",
     "output_type": "stream",
     "text": [
      "WARNING:tensorflow:Deprecation warnings have been disabled. Set TF_ENABLE_DEPRECATION_WARNINGS=1 to re-enable them.\n",
      "INFO:tensorflow:Restoring parameters from /tmp/model1.ckpt\n",
      "Model restored from file\n",
      "11\n"
     ]
    }
   ],
   "source": [
    "import tensorflow as tf\n",
    "state1 = tf.Variable(0, name = \"state1\")\n",
    "state2 = tf.Variable(5, name = \"state2\")\n",
    "init_op = tf.global_variables_initializer()\n",
    "saver = tf.train.Saver({\"mys2\":state2})\n",
    "with tf.Session() as sess:\n",
    "    saver.restore(sess, \"/tmp/model1.ckpt\")\n",
    "    print(\"Model restored from file\")\n",
    "#     sess.run(init_op)\n",
    "    print(sess.run(state2))"
   ]
  },
  {
   "cell_type": "markdown",
   "id": "85ac7461",
   "metadata": {},
   "source": [
    "# TF2"
   ]
  },
  {
   "cell_type": "code",
   "execution_count": 2,
   "id": "d9c49b29",
   "metadata": {},
   "outputs": [
    {
     "name": "stdout",
     "output_type": "stream",
     "text": [
      "0\n",
      "2\n",
      "4\n",
      "6\n"
     ]
    }
   ],
   "source": [
    "import tensorflow as tf\n",
    "import tensorflow.compat.v1 as tf1\n",
    "tf1.disable_eager_execution() # ㅆㅂ\n",
    "state = tf.Variable(0, name = \"counter\")\n",
    "one = tf.constant(1)\n",
    "new_value = tf.add(state, one)\n",
    "update = tf1.assign(state, new_value)\n",
    "init_op = tf1.global_variables_initializer()\n",
    "writer = tf1.summary.FileWriter(\"/tmp/lotto2\", graph=tf1.get_default_graph()) # 2.3.1 버전에서는 FileWriter가 안된다. 2 버전거에 맞춰서 사용하자\n",
    "with tf1.Session() as sess:\n",
    "    sess.run(init_op)\n",
    "    print(sess.run(state))\n",
    "    for _ in range(3):\n",
    "        sess.run(update)\n",
    "        print(sess.run(update))"
   ]
  },
  {
   "cell_type": "code",
   "execution_count": 3,
   "id": "5b3cd049",
   "metadata": {},
   "outputs": [
    {
     "name": "stdout",
     "output_type": "stream",
     "text": [
      "0\n",
      "2\n",
      "4\n",
      "6\n"
     ]
    }
   ],
   "source": [
    "import tensorflow as tf\n",
    "import tensorflow.compat.v1 as tf1\n",
    "tf1.disable_eager_execution()\n",
    "tf1.reset_default_graph() # 추가\n",
    "state = tf.Variable(0, name = \"counter\")\n",
    "one = tf.constant(1)\n",
    "new_value = tf.add(state, one)\n",
    "update = tf1.assign(state, new_value)\n",
    "init_op = tf1.global_variables_initializer()\n",
    "writer = tf1.summary.FileWriter(\"/tmp/lotto2\", graph=tf1.get_default_graph()) # 2.3.1 버전에서는 FileWriter가 안된다. 2 버전거에 맞춰서 사용하자\n",
    "with tf1.Session() as sess:\n",
    "    sess.run(init_op)\n",
    "    print(sess.run(state))\n",
    "    for _ in range(3):\n",
    "        sess.run(update)\n",
    "        print(sess.run(update))"
   ]
  },
  {
   "cell_type": "code",
   "execution_count": 8,
   "id": "882c4b7c",
   "metadata": {},
   "outputs": [
    {
     "name": "stdout",
     "output_type": "stream",
     "text": [
      "0 [0.75478107] [-0.08205453]\n",
      "20 [0.28354654] [0.20110604]\n",
      "40 [0.15050878] [0.27278614]\n",
      "60 [0.11389914] [0.29251122]\n",
      "80 [0.1038248] [0.29793924]\n",
      "100 [0.10105253] [0.29943293]\n",
      "120 [0.10028966] [0.29984394]\n",
      "140 [0.10007972] [0.29995707]\n",
      "160 [0.10002193] [0.2999882]\n",
      "180 [0.10000605] [0.29999676]\n",
      "200 [0.10000167] [0.29999912]\n"
     ]
    }
   ],
   "source": [
    "\n",
    "import tensorflow as tf\n",
    "import tensorflow.compat.v1 as tf1\n",
    "import numpy as np\n",
    "tf1.reset_default_graph()\n",
    "x_data = np.random.rand(100).astype(np.float32)\n",
    "y_data = x_data * 0.1 + 0.3\n",
    "W = tf.Variable(tf.random.uniform([1], -1.0, 1.0), name=\"weight\")\n",
    "b = tf.Variable(tf.zeros([1]), name=\"zeros\")\n",
    "y = W * x_data + b\n",
    "writer = tf1.summary.FileWriter(\"/tmp/lotto1\", graph=tf1.get_default_graph())\n",
    "loss = tf.reduce_mean(tf.square(y - y_data))\n",
    "optimizer = tf1.train.GradientDescentOptimizer(0.5)\n",
    "train = optimizer.minimize(loss)\n",
    "init = tf1.global_variables_initializer()\n",
    "sess = tf1.Session()\n",
    "sess.run(init)\n",
    "for step in range(201):\n",
    "    sess.run(train)\n",
    "    writer = tf1.summary.FileWriter(\"tmp/lotto1\", graph=sess.graph)\n",
    "    if step % 20 == 0:\n",
    "        print(step, sess.run(W), sess.run(b))\n",
    "\n",
    "sess.close()\n"
   ]
  },
  {
   "cell_type": "code",
   "execution_count": 3,
   "id": "ed4f7868",
   "metadata": {},
   "outputs": [
    {
     "name": "stdout",
     "output_type": "stream",
     "text": [
      "0 [0.7414111] [-0.12804663]\n",
      "20 [0.25285485] [0.21025571]\n",
      "40 [0.13519403] [0.27933687]\n",
      "60 [0.10810323] [0.29524243]\n",
      "80 [0.10186573] [0.2989046]\n",
      "100 [0.10042958] [0.2997478]\n",
      "120 [0.10009891] [0.29994193]\n",
      "140 [0.10002278] [0.29998663]\n",
      "160 [0.10000525] [0.2999969]\n",
      "180 [0.10000122] [0.2999993]\n",
      "200 [0.10000029] [0.29999983]\n"
     ]
    }
   ],
   "source": [
    "import tensorflow as tf\n",
    "import tensorflow.compat.v1 as tf1\n",
    "import numpy as np\n",
    "tf1.reset_default_graph()\n",
    "tf1.disable_eager_execution()\n",
    "\n",
    "with tf1.name_scope(\"DefineVariable\"):\n",
    "    x_data = np.random.rand(100).astype(np.float32)\n",
    "    y_data = x_data * 0.1 + 0.3\n",
    "    W = tf.Variable(tf.random.uniform([1], -1.0, 1.0), name=\"weight\")\n",
    "    b = tf.Variable(tf.zeros([1]), name=\"zeros\")\n",
    "    y = W * x_data + b\n",
    "    \n",
    "with tf1.name_scope(\"Logit\"):\n",
    "    loss = tf.reduce_mean(tf.square(y - y_data))\n",
    "    optimizer = tf1.train.GradientDescentOptimizer(0.5)\n",
    "    train = optimizer.minimize(loss)\n",
    "    \n",
    "init = tf1.global_variables_initializer()\n",
    "sess = tf1.Session()\n",
    "sess.run(init)\n",
    "for step in range(201):\n",
    "    sess.run(train)\n",
    "    writer = tf1.summary.FileWriter(\"/tmp/lotto1\", graph=sess.graph)\n",
    "    if step % 20 == 0:\n",
    "        print(step, sess.run(W), sess.run(b))\n",
    "\n",
    "sess.close()"
   ]
  },
  {
   "cell_type": "code",
   "execution_count": 9,
   "id": "1d47056b",
   "metadata": {},
   "outputs": [
    {
     "name": "stdout",
     "output_type": "stream",
     "text": [
      "Way 3\n",
      "\n",
      "rW = [-0.99373245], \n",
      "b = [-0.8594458]\n",
      "\n",
      "rW = [-0.11317813], \n",
      "b = [0.4293017]\n",
      "\n",
      "rW = [-0.06651666], \n",
      "b = [0.40346396]\n",
      "\n",
      "rW = [-0.03093548], \n",
      "b = [0.3813601]\n",
      "\n",
      "rW = [-0.00295876], \n",
      "b = [0.36397606]\n",
      "\n",
      "rW = [0.01904024], \n",
      "b = [0.35030642]\n",
      "\n",
      "rW = [0.03633872], \n",
      "b = [0.3395576]\n",
      "\n",
      "rW = [0.04994111], \n",
      "b = [0.33110538]\n",
      "\n",
      "rW = [0.06063708], \n",
      "b = [0.32445917]\n",
      "\n",
      "rW = [0.06904771], \n",
      "b = [0.319233]\n",
      "\n",
      "rW = [0.07566124], \n",
      "b = [0.31512353]\n"
     ]
    }
   ],
   "source": [
    "import tensorflow as tf\n",
    "import tensorflow.compat.v1 as tf1\n",
    "import numpy as np\n",
    "tf1.enable_eager_execution()\n",
    "x_data = np.random.rand(100).astype('f')\n",
    "y_data = x_data * .1 + .3\n",
    "\n",
    "init = lambda : (tf.Variable(tf.random.uniform([1], -1., 1.), name=\"Weight\"),\n",
    "                 tf.Variable(tf.random.uniform([1], -1., 1.), name=\"Bias\"))\n",
    "W, b = init()\n",
    "yp = lambda x : W*x +b\n",
    "mse = lambda yp, yt : tf.reduce_mean(tf.square(yp - yt))\n",
    "\n",
    "way = 3\n",
    "if way == 1:\n",
    "    print(\"Way 1\")\n",
    "    for step in range(10):\n",
    "        with tf.GradientTape() as tape:\n",
    "            y = yp(x_data)\n",
    "            loss = mse(y, y_data)\n",
    "        grads = tape.gradient(loss, [W, b])\n",
    "        if step % 200 == 0:\n",
    "            print(f\"\\nW : {W.numpy()},\\nb = {b.numpy()},\\ng[0] : {grads[0].numpy()},\\ng[1] :{grads[1].numpy()}\")\n",
    "        W.assign(W - 0.01 * grads[0].numpy())\n",
    "        b.assign(b - 0.01 * grads[1].numpy())\n",
    "elif way == 2:\n",
    "    print(\"Way 2\")\n",
    "    optimizer = tf.optimizers.SGD(learning_rate=0.1)\n",
    "    for step in range(10):\n",
    "        with tf.GradientTape() as tape:\n",
    "            y = yp(x_data)\n",
    "            loss = mse(y, y_data)\n",
    "        grads = tape.gradient(loss, [W, b])\n",
    "        process_grads = [g for g in grads]\n",
    "        grads_and_vars = zip(process_grads, [W, b])\n",
    "        if step % 20 == 0:\n",
    "            print(f\"\\nW={W.numpy()}, \\nb={b.numpy()}, \\ng={grads[0].numpy()}, \\ng[1]={grads[1].numpy()}\")\n",
    "        optimizer.apply_gradients(grads_and_vars)\n",
    "elif way == 3:\n",
    "    print(\"Way 3\")\n",
    "    y_pred, yt = yp(x_data), y_data\n",
    "    optimzier = tf.optimizers.SGD(learning_rate=0.1)\n",
    "    for step in range(201):\n",
    "        if step % 20 == 0:\n",
    "            print(f\"\\nW = {W.numpy()}, \\nb = {b.numpy()}\")\n",
    "        mse_min = lambda : tf.reduce_mean(tf.square((W * x_data + b) - yt))\n",
    "        optimizer.minimize(mse_min, var_list=[W,b])"
   ]
  },
  {
   "cell_type": "markdown",
   "id": "7772ff07",
   "metadata": {},
   "source": [
    "# Cost Function"
   ]
  },
  {
   "cell_type": "code",
   "execution_count": 6,
   "id": "1031bc22",
   "metadata": {},
   "outputs": [],
   "source": [
    "import tensorflow as tf\n",
    "import matplotlib.pyplot as plt\n",
    "X = [40., 22., 91.]\n",
    "Y = [1., 2., 3.]\n",
    "m = len(X)\n",
    "\n",
    "hypothesis = lambda W: tf.multiply(W, X)\n",
    "cost = lambda hx: tf.reduce_sum(tf.pow(hx-Y, 2)) / m"
   ]
  },
  {
   "cell_type": "code",
   "execution_count": 11,
   "id": "4ab0a0bc",
   "metadata": {},
   "outputs": [
    {
     "data": {
      "image/png": "[encoded data removed]",
      "text/plain": [
       "<Figure size 432x288 with 1 Axes>"
      ]
     },
     "metadata": {
      "needs_background": "light"
     },
     "output_type": "display_data"
    }
   ],
   "source": [
    "import numpy as np\n",
    "W_val, cost_val = [], []\n",
    "for i in np.arange(-30, 50, 0.1):\n",
    "    xPos = i\n",
    "    yPos = cost(hypothesis(xPos))\n",
    "#     print(f\"\\nW = {xPos},\\nCost = {yPos}\")\n",
    "    \n",
    "    W_val.append(xPos)\n",
    "    cost_val.append(yPos)\n",
    "\n",
    "plt.plot(W_val, cost_val, 'ro')\n",
    "plt.ylabel(\"Cost\")\n",
    "plt.xlabel('W')\n",
    "plt.show()"
   ]
  },
  {
   "cell_type": "markdown",
   "id": "e648b630",
   "metadata": {},
   "source": [
    "# Optimization"
   ]
  },
  {
   "cell_type": "code",
   "execution_count": 16,
   "id": "05a3abdd",
   "metadata": {},
   "outputs": [],
   "source": [
    "import tensorflow as tf\n",
    "\n",
    "x_data = [1., 2., 3.]\n",
    "y_data = [1., 2., 3.]"
   ]
  },
  {
   "cell_type": "code",
   "execution_count": 17,
   "id": "342c6892",
   "metadata": {},
   "outputs": [],
   "source": [
    "W = tf.Variable(tf.random.uniform([1], -10, 1.0))\n",
    "b = tf.Variable(tf.random.uniform([1], -10, 1.0))\n",
    "\n",
    "hx = lambda x: W * x + b"
   ]
  },
  {
   "cell_type": "code",
   "execution_count": 18,
   "id": "e65b0475",
   "metadata": {},
   "outputs": [],
   "source": [
    "cost = lambda : tf.reduce_mean(tf.square(hx(x_data) - y_data))"
   ]
  },
  {
   "cell_type": "code",
   "execution_count": 19,
   "id": "8d8a519c",
   "metadata": {},
   "outputs": [],
   "source": [
    "rate = tf.Variable(0.1)\n",
    "opt = tf.optimizers.SGD(rate)"
   ]
  },
  {
   "cell_type": "code",
   "execution_count": 20,
   "id": "cd4cf659",
   "metadata": {},
   "outputs": [
    {
     "name": "stdout",
     "output_type": "stream",
     "text": [
      "\n",
      " step : 0, cost : 342.23046875, W : <tf.Variable 'Variable:0' shape=(1,) dtype=float32, numpy=array([-7.4420114], dtype=float32)>, b : <tf.Variable 'Variable:0' shape=(1,) dtype=float32, numpy=array([-0.28335285], dtype=float32)>\n",
      "\n",
      " step : 20, cost : 0.447736531496048, W : <tf.Variable 'Variable:0' shape=(1,) dtype=float32, numpy=array([0.22284575], dtype=float32)>, b : <tf.Variable 'Variable:0' shape=(1,) dtype=float32, numpy=array([1.7666543], dtype=float32)>\n",
      "\n",
      " step : 40, cost : 0.16916696727275848, W : <tf.Variable 'Variable:0' shape=(1,) dtype=float32, numpy=array([0.5223017], dtype=float32)>, b : <tf.Variable 'Variable:0' shape=(1,) dtype=float32, numpy=array([1.0859206], dtype=float32)>\n",
      "\n",
      " step : 60, cost : 0.06391578167676926, W : <tf.Variable 'Variable:0' shape=(1,) dtype=float32, numpy=array([0.7063702], dtype=float32)>, b : <tf.Variable 'Variable:0' shape=(1,) dtype=float32, numpy=array([0.6674895], dtype=float32)>\n",
      "\n",
      " step : 80, cost : 0.024149129167199135, W : <tf.Variable 'Variable:0' shape=(1,) dtype=float32, numpy=array([0.8195127], dtype=float32)>, b : <tf.Variable 'Variable:0' shape=(1,) dtype=float32, numpy=array([0.41029], dtype=float32)>\n",
      "\n",
      " step : 100, cost : 0.00912418682128191, W : <tf.Variable 'Variable:0' shape=(1,) dtype=float32, numpy=array([0.88905877], dtype=float32)>, b : <tf.Variable 'Variable:0' shape=(1,) dtype=float32, numpy=array([0.25219548], dtype=float32)>\n",
      "\n",
      " step : 120, cost : 0.0034473640844225883, W : <tf.Variable 'Variable:0' shape=(1,) dtype=float32, numpy=array([0.9318071], dtype=float32)>, b : <tf.Variable 'Variable:0' shape=(1,) dtype=float32, numpy=array([0.15501864], dtype=float32)>\n",
      "\n",
      " step : 140, cost : 0.001302508171647787, W : <tf.Variable 'Variable:0' shape=(1,) dtype=float32, numpy=array([0.9580834], dtype=float32)>, b : <tf.Variable 'Variable:0' shape=(1,) dtype=float32, numpy=array([0.09528622], dtype=float32)>\n",
      "\n",
      " step : 160, cost : 0.0004921223153360188, W : <tf.Variable 'Variable:0' shape=(1,) dtype=float32, numpy=array([0.97423494], dtype=float32)>, b : <tf.Variable 'Variable:0' shape=(1,) dtype=float32, numpy=array([0.05857015], dtype=float32)>\n",
      "\n",
      " step : 180, cost : 0.0001859366166172549, W : <tf.Variable 'Variable:0' shape=(1,) dtype=float32, numpy=array([0.9841628], dtype=float32)>, b : <tf.Variable 'Variable:0' shape=(1,) dtype=float32, numpy=array([0.0360017], dtype=float32)>\n",
      "\n",
      " step : 200, cost : 7.025199010968208e-05, W : <tf.Variable 'Variable:0' shape=(1,) dtype=float32, numpy=array([0.9902652], dtype=float32)>, b : <tf.Variable 'Variable:0' shape=(1,) dtype=float32, numpy=array([0.02212935], dtype=float32)>\n",
      "\n",
      " step : 220, cost : 2.6542378691374324e-05, W : <tf.Variable 'Variable:0' shape=(1,) dtype=float32, numpy=array([0.9940163], dtype=float32)>, b : <tf.Variable 'Variable:0' shape=(1,) dtype=float32, numpy=array([0.01360238], dtype=float32)>\n",
      "\n",
      " step : 240, cost : 1.0028757969848812e-05, W : <tf.Variable 'Variable:0' shape=(1,) dtype=float32, numpy=array([0.9963219], dtype=float32)>, b : <tf.Variable 'Variable:0' shape=(1,) dtype=float32, numpy=array([0.0083611], dtype=float32)>\n",
      "\n",
      " step : 260, cost : 3.789226866501849e-06, W : <tf.Variable 'Variable:0' shape=(1,) dtype=float32, numpy=array([0.9977392], dtype=float32)>, b : <tf.Variable 'Variable:0' shape=(1,) dtype=float32, numpy=array([0.00513937], dtype=float32)>\n",
      "\n",
      " step : 280, cost : 1.4316964325189474e-06, W : <tf.Variable 'Variable:0' shape=(1,) dtype=float32, numpy=array([0.9986104], dtype=float32)>, b : <tf.Variable 'Variable:0' shape=(1,) dtype=float32, numpy=array([0.00315903], dtype=float32)>\n",
      "\n",
      " step : 300, cost : 5.408942911344639e-07, W : <tf.Variable 'Variable:0' shape=(1,) dtype=float32, numpy=array([0.9991458], dtype=float32)>, b : <tf.Variable 'Variable:0' shape=(1,) dtype=float32, numpy=array([0.00194175], dtype=float32)>\n",
      "\n",
      " step : 320, cost : 2.0434868019947316e-07, W : <tf.Variable 'Variable:0' shape=(1,) dtype=float32, numpy=array([0.999475], dtype=float32)>, b : <tf.Variable 'Variable:0' shape=(1,) dtype=float32, numpy=array([0.00119356], dtype=float32)>\n",
      "\n",
      " step : 340, cost : 7.722383799091403e-08, W : <tf.Variable 'Variable:0' shape=(1,) dtype=float32, numpy=array([0.99967724], dtype=float32)>, b : <tf.Variable 'Variable:0' shape=(1,) dtype=float32, numpy=array([0.00073362], dtype=float32)>\n",
      "\n",
      " step : 360, cost : 2.918140751262399e-08, W : <tf.Variable 'Variable:0' shape=(1,) dtype=float32, numpy=array([0.99980164], dtype=float32)>, b : <tf.Variable 'Variable:0' shape=(1,) dtype=float32, numpy=array([0.00045096], dtype=float32)>\n",
      "\n",
      " step : 380, cost : 1.1021811019418237e-08, W : <tf.Variable 'Variable:0' shape=(1,) dtype=float32, numpy=array([0.99987805], dtype=float32)>, b : <tf.Variable 'Variable:0' shape=(1,) dtype=float32, numpy=array([0.00027723], dtype=float32)>\n",
      "\n",
      " step : 400, cost : 4.1643537507241035e-09, W : <tf.Variable 'Variable:0' shape=(1,) dtype=float32, numpy=array([0.9999251], dtype=float32)>, b : <tf.Variable 'Variable:0' shape=(1,) dtype=float32, numpy=array([0.00017042], dtype=float32)>\n",
      "\n",
      " step : 420, cost : 1.5765712069182314e-09, W : <tf.Variable 'Variable:0' shape=(1,) dtype=float32, numpy=array([0.9999539], dtype=float32)>, b : <tf.Variable 'Variable:0' shape=(1,) dtype=float32, numpy=array([0.0001047], dtype=float32)>\n",
      "\n",
      " step : 440, cost : 5.94847449075786e-10, W : <tf.Variable 'Variable:0' shape=(1,) dtype=float32, numpy=array([0.9999716], dtype=float32)>, b : <tf.Variable 'Variable:0' shape=(1,) dtype=float32, numpy=array([6.435568e-05], dtype=float32)>\n",
      "\n",
      " step : 460, cost : 2.2468309157641642e-10, W : <tf.Variable 'Variable:0' shape=(1,) dtype=float32, numpy=array([0.9999826], dtype=float32)>, b : <tf.Variable 'Variable:0' shape=(1,) dtype=float32, numpy=array([3.957603e-05], dtype=float32)>\n",
      "\n",
      " step : 480, cost : 8.492406777804717e-11, W : <tf.Variable 'Variable:0' shape=(1,) dtype=float32, numpy=array([0.9999893], dtype=float32)>, b : <tf.Variable 'Variable:0' shape=(1,) dtype=float32, numpy=array([2.4356978e-05], dtype=float32)>\n",
      "\n",
      " step : 500, cost : 3.19317905450589e-11, W : <tf.Variable 'Variable:0' shape=(1,) dtype=float32, numpy=array([0.99999344], dtype=float32)>, b : <tf.Variable 'Variable:0' shape=(1,) dtype=float32, numpy=array([1.501097e-05], dtype=float32)>\n",
      "\n",
      " step : 520, cost : 1.226396761921933e-11, W : <tf.Variable 'Variable:0' shape=(1,) dtype=float32, numpy=array([0.9999959], dtype=float32)>, b : <tf.Variable 'Variable:0' shape=(1,) dtype=float32, numpy=array([9.233292e-06], dtype=float32)>\n",
      "\n",
      " step : 540, cost : 4.836427699300705e-12, W : <tf.Variable 'Variable:0' shape=(1,) dtype=float32, numpy=array([0.9999975], dtype=float32)>, b : <tf.Variable 'Variable:0' shape=(1,) dtype=float32, numpy=array([5.688804e-06], dtype=float32)>\n",
      "\n",
      " step : 560, cost : 1.7479351299698465e-12, W : <tf.Variable 'Variable:0' shape=(1,) dtype=float32, numpy=array([0.9999985], dtype=float32)>, b : <tf.Variable 'Variable:0' shape=(1,) dtype=float32, numpy=array([3.519195e-06], dtype=float32)>\n",
      "\n",
      " step : 580, cost : 6.631732381127964e-13, W : <tf.Variable 'Variable:0' shape=(1,) dtype=float32, numpy=array([0.99999905], dtype=float32)>, b : <tf.Variable 'Variable:0' shape=(1,) dtype=float32, numpy=array([2.1681565e-06], dtype=float32)>\n",
      "\n",
      " step : 600, cost : 2.6526927898208597e-13, W : <tf.Variable 'Variable:0' shape=(1,) dtype=float32, numpy=array([0.9999994], dtype=float32)>, b : <tf.Variable 'Variable:0' shape=(1,) dtype=float32, numpy=array([1.3416392e-06], dtype=float32)>\n",
      "\n",
      " step : 620, cost : 1.1842378477584098e-13, W : <tf.Variable 'Variable:0' shape=(1,) dtype=float32, numpy=array([0.9999996], dtype=float32)>, b : <tf.Variable 'Variable:0' shape=(1,) dtype=float32, numpy=array([8.250659e-07], dtype=float32)>\n",
      "\n",
      " step : 640, cost : 4.263256414560601e-14, W : <tf.Variable 'Variable:0' shape=(1,) dtype=float32, numpy=array([0.99999964], dtype=float32)>, b : <tf.Variable 'Variable:0' shape=(1,) dtype=float32, numpy=array([6.502258e-07], dtype=float32)>\n",
      "\n",
      " step : 660, cost : 6.158037269129654e-14, W : <tf.Variable 'Variable:0' shape=(1,) dtype=float32, numpy=array([0.9999998], dtype=float32)>, b : <tf.Variable 'Variable:0' shape=(1,) dtype=float32, numpy=array([5.3101655e-07], dtype=float32)>\n",
      "\n",
      " step : 680, cost : 3.789561370324927e-14, W : <tf.Variable 'Variable:0' shape=(1,) dtype=float32, numpy=array([0.99999994], dtype=float32)>, b : <tf.Variable 'Variable:0' shape=(1,) dtype=float32, numpy=array([2.6080872e-07], dtype=float32)>\n",
      "\n",
      " step : 700, cost : 4.736951712906159e-15, W : <tf.Variable 'Variable:0' shape=(1,) dtype=float32, numpy=array([1.], dtype=float32)>, b : <tf.Variable 'Variable:0' shape=(1,) dtype=float32, numpy=array([1.098102e-07], dtype=float32)>\n"
     ]
    },
    {
     "name": "stdout",
     "output_type": "stream",
     "text": [
      "\n",
      " step : 720, cost : 0.0, W : <tf.Variable 'Variable:0' shape=(1,) dtype=float32, numpy=array([1.], dtype=float32)>, b : <tf.Variable 'Variable:0' shape=(1,) dtype=float32, numpy=array([5.4179203e-08], dtype=float32)>\n",
      "\n",
      " step : 740, cost : 0.0, W : <tf.Variable 'Variable:0' shape=(1,) dtype=float32, numpy=array([1.], dtype=float32)>, b : <tf.Variable 'Variable:0' shape=(1,) dtype=float32, numpy=array([5.4179203e-08], dtype=float32)>\n",
      "\n",
      " step : 760, cost : 0.0, W : <tf.Variable 'Variable:0' shape=(1,) dtype=float32, numpy=array([1.], dtype=float32)>, b : <tf.Variable 'Variable:0' shape=(1,) dtype=float32, numpy=array([5.4179203e-08], dtype=float32)>\n",
      "\n",
      " step : 780, cost : 0.0, W : <tf.Variable 'Variable:0' shape=(1,) dtype=float32, numpy=array([1.], dtype=float32)>, b : <tf.Variable 'Variable:0' shape=(1,) dtype=float32, numpy=array([5.4179203e-08], dtype=float32)>\n",
      "\n",
      " step : 800, cost : 0.0, W : <tf.Variable 'Variable:0' shape=(1,) dtype=float32, numpy=array([1.], dtype=float32)>, b : <tf.Variable 'Variable:0' shape=(1,) dtype=float32, numpy=array([5.4179203e-08], dtype=float32)>\n",
      "\n",
      " step : 820, cost : 0.0, W : <tf.Variable 'Variable:0' shape=(1,) dtype=float32, numpy=array([1.], dtype=float32)>, b : <tf.Variable 'Variable:0' shape=(1,) dtype=float32, numpy=array([5.4179203e-08], dtype=float32)>\n",
      "\n",
      " step : 840, cost : 0.0, W : <tf.Variable 'Variable:0' shape=(1,) dtype=float32, numpy=array([1.], dtype=float32)>, b : <tf.Variable 'Variable:0' shape=(1,) dtype=float32, numpy=array([5.4179203e-08], dtype=float32)>\n",
      "\n",
      " step : 860, cost : 0.0, W : <tf.Variable 'Variable:0' shape=(1,) dtype=float32, numpy=array([1.], dtype=float32)>, b : <tf.Variable 'Variable:0' shape=(1,) dtype=float32, numpy=array([5.4179203e-08], dtype=float32)>\n",
      "\n",
      " step : 880, cost : 0.0, W : <tf.Variable 'Variable:0' shape=(1,) dtype=float32, numpy=array([1.], dtype=float32)>, b : <tf.Variable 'Variable:0' shape=(1,) dtype=float32, numpy=array([5.4179203e-08], dtype=float32)>\n",
      "\n",
      " step : 900, cost : 0.0, W : <tf.Variable 'Variable:0' shape=(1,) dtype=float32, numpy=array([1.], dtype=float32)>, b : <tf.Variable 'Variable:0' shape=(1,) dtype=float32, numpy=array([5.4179203e-08], dtype=float32)>\n",
      "\n",
      " step : 920, cost : 0.0, W : <tf.Variable 'Variable:0' shape=(1,) dtype=float32, numpy=array([1.], dtype=float32)>, b : <tf.Variable 'Variable:0' shape=(1,) dtype=float32, numpy=array([5.4179203e-08], dtype=float32)>\n",
      "\n",
      " step : 940, cost : 0.0, W : <tf.Variable 'Variable:0' shape=(1,) dtype=float32, numpy=array([1.], dtype=float32)>, b : <tf.Variable 'Variable:0' shape=(1,) dtype=float32, numpy=array([5.4179203e-08], dtype=float32)>\n",
      "\n",
      " step : 960, cost : 0.0, W : <tf.Variable 'Variable:0' shape=(1,) dtype=float32, numpy=array([1.], dtype=float32)>, b : <tf.Variable 'Variable:0' shape=(1,) dtype=float32, numpy=array([5.4179203e-08], dtype=float32)>\n",
      "\n",
      " step : 980, cost : 0.0, W : <tf.Variable 'Variable:0' shape=(1,) dtype=float32, numpy=array([1.], dtype=float32)>, b : <tf.Variable 'Variable:0' shape=(1,) dtype=float32, numpy=array([5.4179203e-08], dtype=float32)>\n"
     ]
    }
   ],
   "source": [
    "for step in range(1000):\n",
    "    if step % 20 == 0:\n",
    "        print(f\"\\n step : {step}, cost : {cost()}, W : {W}, b : {b}\")\n",
    "    opt.minimize(cost, var_list=[W, b])"
   ]
  },
  {
   "cell_type": "code",
   "execution_count": 21,
   "id": "90711191",
   "metadata": {},
   "outputs": [
    {
     "name": "stdout",
     "output_type": "stream",
     "text": [
      "\n",
      " step : 0, cost : 0.0, W : <tf.Variable 'Variable:0' shape=(1,) dtype=float32, numpy=array([1.], dtype=float32)>, b : <tf.Variable 'Variable:0' shape=(1,) dtype=float32, numpy=array([5.4179203e-08], dtype=float32)>\n",
      "\n",
      " step : 20, cost : 0.0, W : <tf.Variable 'Variable:0' shape=(1,) dtype=float32, numpy=array([1.], dtype=float32)>, b : <tf.Variable 'Variable:0' shape=(1,) dtype=float32, numpy=array([5.4179203e-08], dtype=float32)>\n",
      "\n",
      " step : 40, cost : 0.0, W : <tf.Variable 'Variable:0' shape=(1,) dtype=float32, numpy=array([1.], dtype=float32)>, b : <tf.Variable 'Variable:0' shape=(1,) dtype=float32, numpy=array([5.4179203e-08], dtype=float32)>\n",
      "\n",
      " step : 60, cost : 0.0, W : <tf.Variable 'Variable:0' shape=(1,) dtype=float32, numpy=array([1.], dtype=float32)>, b : <tf.Variable 'Variable:0' shape=(1,) dtype=float32, numpy=array([5.4179203e-08], dtype=float32)>\n",
      "\n",
      " step : 80, cost : 0.0, W : <tf.Variable 'Variable:0' shape=(1,) dtype=float32, numpy=array([1.], dtype=float32)>, b : <tf.Variable 'Variable:0' shape=(1,) dtype=float32, numpy=array([5.4179203e-08], dtype=float32)>\n",
      "\n",
      " step : 100, cost : 0.0, W : <tf.Variable 'Variable:0' shape=(1,) dtype=float32, numpy=array([1.], dtype=float32)>, b : <tf.Variable 'Variable:0' shape=(1,) dtype=float32, numpy=array([5.4179203e-08], dtype=float32)>\n",
      "\n",
      " step : 120, cost : 0.0, W : <tf.Variable 'Variable:0' shape=(1,) dtype=float32, numpy=array([1.], dtype=float32)>, b : <tf.Variable 'Variable:0' shape=(1,) dtype=float32, numpy=array([5.4179203e-08], dtype=float32)>\n",
      "\n",
      " step : 140, cost : 0.0, W : <tf.Variable 'Variable:0' shape=(1,) dtype=float32, numpy=array([1.], dtype=float32)>, b : <tf.Variable 'Variable:0' shape=(1,) dtype=float32, numpy=array([5.4179203e-08], dtype=float32)>\n",
      "\n",
      " step : 160, cost : 0.0, W : <tf.Variable 'Variable:0' shape=(1,) dtype=float32, numpy=array([1.], dtype=float32)>, b : <tf.Variable 'Variable:0' shape=(1,) dtype=float32, numpy=array([5.4179203e-08], dtype=float32)>\n",
      "\n",
      " step : 180, cost : 0.0, W : <tf.Variable 'Variable:0' shape=(1,) dtype=float32, numpy=array([1.], dtype=float32)>, b : <tf.Variable 'Variable:0' shape=(1,) dtype=float32, numpy=array([5.4179203e-08], dtype=float32)>\n",
      "\n",
      " step : 200, cost : 0.0, W : <tf.Variable 'Variable:0' shape=(1,) dtype=float32, numpy=array([1.], dtype=float32)>, b : <tf.Variable 'Variable:0' shape=(1,) dtype=float32, numpy=array([5.4179203e-08], dtype=float32)>\n",
      "\n",
      " step : 220, cost : 0.0, W : <tf.Variable 'Variable:0' shape=(1,) dtype=float32, numpy=array([1.], dtype=float32)>, b : <tf.Variable 'Variable:0' shape=(1,) dtype=float32, numpy=array([5.4179203e-08], dtype=float32)>\n",
      "\n",
      " step : 240, cost : 0.0, W : <tf.Variable 'Variable:0' shape=(1,) dtype=float32, numpy=array([1.], dtype=float32)>, b : <tf.Variable 'Variable:0' shape=(1,) dtype=float32, numpy=array([5.4179203e-08], dtype=float32)>\n",
      "\n",
      " step : 260, cost : 0.0, W : <tf.Variable 'Variable:0' shape=(1,) dtype=float32, numpy=array([1.], dtype=float32)>, b : <tf.Variable 'Variable:0' shape=(1,) dtype=float32, numpy=array([5.4179203e-08], dtype=float32)>\n",
      "\n",
      " step : 280, cost : 0.0, W : <tf.Variable 'Variable:0' shape=(1,) dtype=float32, numpy=array([1.], dtype=float32)>, b : <tf.Variable 'Variable:0' shape=(1,) dtype=float32, numpy=array([5.4179203e-08], dtype=float32)>\n",
      "\n",
      " step : 300, cost : 0.0, W : <tf.Variable 'Variable:0' shape=(1,) dtype=float32, numpy=array([1.], dtype=float32)>, b : <tf.Variable 'Variable:0' shape=(1,) dtype=float32, numpy=array([5.4179203e-08], dtype=float32)>\n",
      "\n",
      " step : 320, cost : 0.0, W : <tf.Variable 'Variable:0' shape=(1,) dtype=float32, numpy=array([1.], dtype=float32)>, b : <tf.Variable 'Variable:0' shape=(1,) dtype=float32, numpy=array([5.4179203e-08], dtype=float32)>\n",
      "\n",
      " step : 340, cost : 0.0, W : <tf.Variable 'Variable:0' shape=(1,) dtype=float32, numpy=array([1.], dtype=float32)>, b : <tf.Variable 'Variable:0' shape=(1,) dtype=float32, numpy=array([5.4179203e-08], dtype=float32)>\n",
      "\n",
      " step : 360, cost : 0.0, W : <tf.Variable 'Variable:0' shape=(1,) dtype=float32, numpy=array([1.], dtype=float32)>, b : <tf.Variable 'Variable:0' shape=(1,) dtype=float32, numpy=array([5.4179203e-08], dtype=float32)>\n",
      "\n",
      " step : 380, cost : 0.0, W : <tf.Variable 'Variable:0' shape=(1,) dtype=float32, numpy=array([1.], dtype=float32)>, b : <tf.Variable 'Variable:0' shape=(1,) dtype=float32, numpy=array([5.4179203e-08], dtype=float32)>\n",
      "\n",
      " step : 400, cost : 0.0, W : <tf.Variable 'Variable:0' shape=(1,) dtype=float32, numpy=array([1.], dtype=float32)>, b : <tf.Variable 'Variable:0' shape=(1,) dtype=float32, numpy=array([5.4179203e-08], dtype=float32)>\n",
      "\n",
      " step : 420, cost : 0.0, W : <tf.Variable 'Variable:0' shape=(1,) dtype=float32, numpy=array([1.], dtype=float32)>, b : <tf.Variable 'Variable:0' shape=(1,) dtype=float32, numpy=array([5.4179203e-08], dtype=float32)>\n",
      "\n",
      " step : 440, cost : 0.0, W : <tf.Variable 'Variable:0' shape=(1,) dtype=float32, numpy=array([1.], dtype=float32)>, b : <tf.Variable 'Variable:0' shape=(1,) dtype=float32, numpy=array([5.4179203e-08], dtype=float32)>\n",
      "\n",
      " step : 460, cost : 0.0, W : <tf.Variable 'Variable:0' shape=(1,) dtype=float32, numpy=array([1.], dtype=float32)>, b : <tf.Variable 'Variable:0' shape=(1,) dtype=float32, numpy=array([5.4179203e-08], dtype=float32)>\n",
      "\n",
      " step : 480, cost : 0.0, W : <tf.Variable 'Variable:0' shape=(1,) dtype=float32, numpy=array([1.], dtype=float32)>, b : <tf.Variable 'Variable:0' shape=(1,) dtype=float32, numpy=array([5.4179203e-08], dtype=float32)>\n",
      "\n",
      " step : 500, cost : 0.0, W : <tf.Variable 'Variable:0' shape=(1,) dtype=float32, numpy=array([1.], dtype=float32)>, b : <tf.Variable 'Variable:0' shape=(1,) dtype=float32, numpy=array([5.4179203e-08], dtype=float32)>\n",
      "\n",
      " step : 520, cost : 0.0, W : <tf.Variable 'Variable:0' shape=(1,) dtype=float32, numpy=array([1.], dtype=float32)>, b : <tf.Variable 'Variable:0' shape=(1,) dtype=float32, numpy=array([5.4179203e-08], dtype=float32)>\n",
      "\n",
      " step : 540, cost : 0.0, W : <tf.Variable 'Variable:0' shape=(1,) dtype=float32, numpy=array([1.], dtype=float32)>, b : <tf.Variable 'Variable:0' shape=(1,) dtype=float32, numpy=array([5.4179203e-08], dtype=float32)>\n",
      "\n",
      " step : 560, cost : 0.0, W : <tf.Variable 'Variable:0' shape=(1,) dtype=float32, numpy=array([1.], dtype=float32)>, b : <tf.Variable 'Variable:0' shape=(1,) dtype=float32, numpy=array([5.4179203e-08], dtype=float32)>\n",
      "\n",
      " step : 580, cost : 0.0, W : <tf.Variable 'Variable:0' shape=(1,) dtype=float32, numpy=array([1.], dtype=float32)>, b : <tf.Variable 'Variable:0' shape=(1,) dtype=float32, numpy=array([5.4179203e-08], dtype=float32)>\n",
      "\n",
      " step : 600, cost : 0.0, W : <tf.Variable 'Variable:0' shape=(1,) dtype=float32, numpy=array([1.], dtype=float32)>, b : <tf.Variable 'Variable:0' shape=(1,) dtype=float32, numpy=array([5.4179203e-08], dtype=float32)>\n",
      "\n",
      " step : 620, cost : 0.0, W : <tf.Variable 'Variable:0' shape=(1,) dtype=float32, numpy=array([1.], dtype=float32)>, b : <tf.Variable 'Variable:0' shape=(1,) dtype=float32, numpy=array([5.4179203e-08], dtype=float32)>\n",
      "\n",
      " step : 640, cost : 0.0, W : <tf.Variable 'Variable:0' shape=(1,) dtype=float32, numpy=array([1.], dtype=float32)>, b : <tf.Variable 'Variable:0' shape=(1,) dtype=float32, numpy=array([5.4179203e-08], dtype=float32)>\n",
      "\n",
      " step : 660, cost : 0.0, W : <tf.Variable 'Variable:0' shape=(1,) dtype=float32, numpy=array([1.], dtype=float32)>, b : <tf.Variable 'Variable:0' shape=(1,) dtype=float32, numpy=array([5.4179203e-08], dtype=float32)>\n",
      "\n",
      " step : 680, cost : 0.0, W : <tf.Variable 'Variable:0' shape=(1,) dtype=float32, numpy=array([1.], dtype=float32)>, b : <tf.Variable 'Variable:0' shape=(1,) dtype=float32, numpy=array([5.4179203e-08], dtype=float32)>\n",
      "\n",
      " step : 700, cost : 0.0, W : <tf.Variable 'Variable:0' shape=(1,) dtype=float32, numpy=array([1.], dtype=float32)>, b : <tf.Variable 'Variable:0' shape=(1,) dtype=float32, numpy=array([5.4179203e-08], dtype=float32)>\n",
      "\n",
      " step : 720, cost : 0.0, W : <tf.Variable 'Variable:0' shape=(1,) dtype=float32, numpy=array([1.], dtype=float32)>, b : <tf.Variable 'Variable:0' shape=(1,) dtype=float32, numpy=array([5.4179203e-08], dtype=float32)>\n",
      "\n",
      " step : 740, cost : 0.0, W : <tf.Variable 'Variable:0' shape=(1,) dtype=float32, numpy=array([1.], dtype=float32)>, b : <tf.Variable 'Variable:0' shape=(1,) dtype=float32, numpy=array([5.4179203e-08], dtype=float32)>\n"
     ]
    },
    {
     "name": "stdout",
     "output_type": "stream",
     "text": [
      "\n",
      " step : 760, cost : 0.0, W : <tf.Variable 'Variable:0' shape=(1,) dtype=float32, numpy=array([1.], dtype=float32)>, b : <tf.Variable 'Variable:0' shape=(1,) dtype=float32, numpy=array([5.4179203e-08], dtype=float32)>\n",
      "\n",
      " step : 780, cost : 0.0, W : <tf.Variable 'Variable:0' shape=(1,) dtype=float32, numpy=array([1.], dtype=float32)>, b : <tf.Variable 'Variable:0' shape=(1,) dtype=float32, numpy=array([5.4179203e-08], dtype=float32)>\n",
      "\n",
      " step : 800, cost : 0.0, W : <tf.Variable 'Variable:0' shape=(1,) dtype=float32, numpy=array([1.], dtype=float32)>, b : <tf.Variable 'Variable:0' shape=(1,) dtype=float32, numpy=array([5.4179203e-08], dtype=float32)>\n",
      "\n",
      " step : 820, cost : 0.0, W : <tf.Variable 'Variable:0' shape=(1,) dtype=float32, numpy=array([1.], dtype=float32)>, b : <tf.Variable 'Variable:0' shape=(1,) dtype=float32, numpy=array([5.4179203e-08], dtype=float32)>\n",
      "\n",
      " step : 840, cost : 0.0, W : <tf.Variable 'Variable:0' shape=(1,) dtype=float32, numpy=array([1.], dtype=float32)>, b : <tf.Variable 'Variable:0' shape=(1,) dtype=float32, numpy=array([5.4179203e-08], dtype=float32)>\n",
      "\n",
      " step : 860, cost : 0.0, W : <tf.Variable 'Variable:0' shape=(1,) dtype=float32, numpy=array([1.], dtype=float32)>, b : <tf.Variable 'Variable:0' shape=(1,) dtype=float32, numpy=array([5.4179203e-08], dtype=float32)>\n",
      "\n",
      " step : 880, cost : 0.0, W : <tf.Variable 'Variable:0' shape=(1,) dtype=float32, numpy=array([1.], dtype=float32)>, b : <tf.Variable 'Variable:0' shape=(1,) dtype=float32, numpy=array([5.4179203e-08], dtype=float32)>\n",
      "\n",
      " step : 900, cost : 0.0, W : <tf.Variable 'Variable:0' shape=(1,) dtype=float32, numpy=array([1.], dtype=float32)>, b : <tf.Variable 'Variable:0' shape=(1,) dtype=float32, numpy=array([5.4179203e-08], dtype=float32)>\n",
      "\n",
      " step : 920, cost : 0.0, W : <tf.Variable 'Variable:0' shape=(1,) dtype=float32, numpy=array([1.], dtype=float32)>, b : <tf.Variable 'Variable:0' shape=(1,) dtype=float32, numpy=array([5.4179203e-08], dtype=float32)>\n",
      "\n",
      " step : 940, cost : 0.0, W : <tf.Variable 'Variable:0' shape=(1,) dtype=float32, numpy=array([1.], dtype=float32)>, b : <tf.Variable 'Variable:0' shape=(1,) dtype=float32, numpy=array([5.4179203e-08], dtype=float32)>\n",
      "\n",
      " step : 960, cost : 0.0, W : <tf.Variable 'Variable:0' shape=(1,) dtype=float32, numpy=array([1.], dtype=float32)>, b : <tf.Variable 'Variable:0' shape=(1,) dtype=float32, numpy=array([5.4179203e-08], dtype=float32)>\n",
      "\n",
      " step : 980, cost : 0.0, W : <tf.Variable 'Variable:0' shape=(1,) dtype=float32, numpy=array([1.], dtype=float32)>, b : <tf.Variable 'Variable:0' shape=(1,) dtype=float32, numpy=array([5.4179203e-08], dtype=float32)>\n"
     ]
    }
   ],
   "source": [
    "for step in range(1000):\n",
    "    with tf.GradientTape() as tape:\n",
    "        y_pred, y_true = hx(x_data), y_data\n",
    "        loss = tf.reduce_mean(tf.square(y_pred - y_true))\n",
    "    grads = tape.gradient(loss, [W, b])\n",
    "    opt.apply_gradients(zip(grads, [W, b]))\n",
    "    if step % 20 == 0:\n",
    "        print(f\"\\n step : {step}, cost : {cost()}, W : {W.numpy()}, b : {b.numpy()}\")"
   ]
  },
  {
   "cell_type": "code",
   "execution_count": null,
   "id": "59bf882b",
   "metadata": {},
   "outputs": [],
   "source": []
  }
 ],
 "metadata": {
  "kernelspec": {
   "display_name": "Python 3",
   "language": "python",
   "name": "python3"
  },
  "language_info": {
   "codemirror_mode": {
    "name": "ipython",
    "version": 3
   },
   "file_extension": ".py",
   "mimetype": "text/x-python",
   "name": "python",
   "nbconvert_exporter": "python",
   "pygments_lexer": "ipython3",
   "version": "3.6.9"
  }
 },
 "nbformat": 4,
 "nbformat_minor": 5
}
