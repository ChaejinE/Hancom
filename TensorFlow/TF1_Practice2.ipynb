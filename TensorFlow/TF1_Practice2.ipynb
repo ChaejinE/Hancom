{
 "cells": [
  {
   "cell_type": "markdown",
   "id": "cdbd8f3d",
   "metadata": {},
   "source": [
    "# Saver 1"
   ]
  },
  {
   "cell_type": "code",
   "execution_count": 11,
   "id": "ffa360e0",
   "metadata": {},
   "outputs": [
    {
     "name": "stdout",
     "output_type": "stream",
     "text": [
      "Model saved in file : /tmp/model1.ckpt\n"
     ]
    }
   ],
   "source": [
    "import tensorflow as tf\n",
    "state1 = tf.Variable(0, name = \"state1\")\n",
    "state2 = tf.Variable(10, name = \"state2\")\n",
    "init_op = tf.global_variables_initializer()\n",
    "saver = tf.train.Saver()\n",
    "with tf.Session() as sess:\n",
    "    sess.run(init_op)\n",
    "    save_path = saver.save(sess, \"/tmp/model1.ckpt\")\n",
    "    print(f\"Model saved in file : {save_path}\")"
   ]
  },
  {
   "cell_type": "markdown",
   "id": "bac57ec9",
   "metadata": {},
   "source": [
    "# Saver 2"
   ]
  },
  {
   "cell_type": "code",
   "execution_count": 10,
   "id": "cc6405a6",
   "metadata": {},
   "outputs": [
    {
     "name": "stdout",
     "output_type": "stream",
     "text": [
      "Model saved in file : /tmp/model2.ckpt\n"
     ]
    }
   ],
   "source": [
    "import tensorflow as tf\n",
    "state1 = tf.Variable(0, name = \"state1\")\n",
    "state2 = tf.Variable(10, name = \"state2\")\n",
    "init_op = tf.global_variables_initializer()\n",
    "saver = tf.train.Saver({\"mys2\":state2})\n",
    "with tf.Session() as sess:\n",
    "    sess.run(init_op)\n",
    "    save_path = saver.save(sess, \"/tmp/model2.ckpt\")\n",
    "    print(f\"Model saved in file : {save_path}\")"
   ]
  },
  {
   "cell_type": "markdown",
   "id": "ee8e6ad3",
   "metadata": {},
   "source": [
    "# Restore"
   ]
  },
  {
   "cell_type": "code",
   "execution_count": 2,
   "id": "4b3ab4fd",
   "metadata": {},
   "outputs": [
    {
     "name": "stdout",
     "output_type": "stream",
     "text": [
      "INFO:tensorflow:Restoring parameters from /tmp/model.ckpt\n",
      "Model restored from file\n",
      "10\n"
     ]
    }
   ],
   "source": [
    "import tensorflow as tf\n",
    "state1 = tf.Variable(0, name = \"state1\")\n",
    "state2 = tf.Variable(5, name = \"state2\")\n",
    "# one = tf.constant(1)\n",
    "# new_value = tf.add(state2, one)\n",
    "# update = tf.assign(state2, new_value)\n",
    "init_op = tf.global_variables_initializer()\n",
    "saver = tf.train.Saver()\n",
    "with tf.Session() as sess:\n",
    "    sess.run(init_op)\n",
    "    saver.restore(sess, \"/tmp/model.ckpt\")\n",
    "    print(\"Model restored from file\")\n",
    "    print(sess.run(state2))"
   ]
  },
  {
   "cell_type": "code",
   "execution_count": 3,
   "id": "110ffd01",
   "metadata": {},
   "outputs": [
    {
     "name": "stdout",
     "output_type": "stream",
     "text": [
      "INFO:tensorflow:Restoring parameters from /tmp/model.ckpt\n",
      "Model restored from file\n",
      "5\n"
     ]
    }
   ],
   "source": [
    "import tensorflow as tf\n",
    "state1 = tf.Variable(0, name = \"state1\")\n",
    "state2 = tf.Variable(5, name = \"state2\")\n",
    "# one = tf.constant(1)\n",
    "# new_value = tf.add(state2, one)\n",
    "# update = tf.assign(state2, new_value)\n",
    "init_op = tf.global_variables_initializer()\n",
    "saver = tf.train.Saver()\n",
    "with tf.Session() as sess:\n",
    "    saver.restore(sess, \"/tmp/model.ckpt\")\n",
    "    print(\"Model restored from file\")\n",
    "    sess.run(init_op)\n",
    "    print(sess.run(state2))"
   ]
  },
  {
   "cell_type": "markdown",
   "id": "5cc06b34",
   "metadata": {},
   "source": [
    "# Saver and Restore"
   ]
  },
  {
   "cell_type": "code",
   "execution_count": 6,
   "id": "3f2a34d8",
   "metadata": {},
   "outputs": [
    {
     "name": "stdout",
     "output_type": "stream",
     "text": [
      "Model saved in file : /tmp/model1.ckpt\n",
      "11\n"
     ]
    }
   ],
   "source": [
    "import tensorflow as tf\n",
    "state1 = tf.Variable(0, name = \"state1\")\n",
    "state2 = tf.Variable(10, name = \"state2\")\n",
    "init_op = tf.global_variables_initializer()\n",
    "saver = tf.train.Saver({\"mys2\":state2})\n",
    "one = tf.constant(1)\n",
    "new_value = tf.add(state2, one)\n",
    "update = tf.assign(state2, new_value)\n",
    "with tf.Session() as sess:\n",
    "    sess.run(init_op)\n",
    "    sess.run(update)\n",
    "    save_path = saver.save(sess, \"/tmp/model1.ckpt\")\n",
    "    print(f\"Model saved in file : {save_path}\")\n",
    "    print(sess.run(state2))"
   ]
  },
  {
   "cell_type": "code",
   "execution_count": 1,
   "id": "b20f71a7",
   "metadata": {},
   "outputs": [
    {
     "name": "stdout",
     "output_type": "stream",
     "text": [
      "WARNING:tensorflow:Deprecation warnings have been disabled. Set TF_ENABLE_DEPRECATION_WARNINGS=1 to re-enable them.\n",
      "INFO:tensorflow:Restoring parameters from /tmp/model1.ckpt\n",
      "Model restored from file\n",
      "11\n"
     ]
    }
   ],
   "source": [
    "import tensorflow as tf\n",
    "state1 = tf.Variable(0, name = \"state1\")\n",
    "state2 = tf.Variable(5, name = \"state2\")\n",
    "init_op = tf.global_variables_initializer()\n",
    "saver = tf.train.Saver({\"mys2\":state2})\n",
    "with tf.Session() as sess:\n",
    "    saver.restore(sess, \"/tmp/model1.ckpt\")\n",
    "    print(\"Model restored from file\")\n",
    "#     sess.run(init_op)\n",
    "    print(sess.run(state2))"
   ]
  },
  {
   "cell_type": "markdown",
   "id": "85ac7461",
   "metadata": {},
   "source": [
    "# TF2"
   ]
  },
  {
   "cell_type": "code",
   "execution_count": 2,
   "id": "d9c49b29",
   "metadata": {},
   "outputs": [
    {
     "name": "stdout",
     "output_type": "stream",
     "text": [
      "0\n",
      "2\n",
      "4\n",
      "6\n"
     ]
    }
   ],
   "source": [
    "import tensorflow as tf\n",
    "import tensorflow.compat.v1 as tf1\n",
    "tf1.disable_eager_execution() # ㅆㅂ\n",
    "state = tf.Variable(0, name = \"counter\")\n",
    "one = tf.constant(1)\n",
    "new_value = tf.add(state, one)\n",
    "update = tf1.assign(state, new_value)\n",
    "init_op = tf1.global_variables_initializer()\n",
    "writer = tf1.summary.FileWriter(\"/tmp/lotto2\", graph=tf1.get_default_graph()) # 2.3.1 버전에서는 FileWriter가 안된다. 2 버전거에 맞춰서 사용하자\n",
    "with tf1.Session() as sess:\n",
    "    sess.run(init_op)\n",
    "    print(sess.run(state))\n",
    "    for _ in range(3):\n",
    "        sess.run(update)\n",
    "        print(sess.run(update))"
   ]
  },
  {
   "cell_type": "code",
   "execution_count": 3,
   "id": "5b3cd049",
   "metadata": {},
   "outputs": [
    {
     "name": "stdout",
     "output_type": "stream",
     "text": [
      "0\n",
      "2\n",
      "4\n",
      "6\n"
     ]
    }
   ],
   "source": [
    "import tensorflow as tf\n",
    "import tensorflow.compat.v1 as tf1\n",
    "tf1.disable_eager_execution()\n",
    "tf1.reset_default_graph() # 추가\n",
    "state = tf.Variable(0, name = \"counter\")\n",
    "one = tf.constant(1)\n",
    "new_value = tf.add(state, one)\n",
    "update = tf1.assign(state, new_value)\n",
    "init_op = tf1.global_variables_initializer()\n",
    "writer = tf1.summary.FileWriter(\"/tmp/lotto2\", graph=tf1.get_default_graph()) # 2.3.1 버전에서는 FileWriter가 안된다. 2 버전거에 맞춰서 사용하자\n",
    "with tf1.Session() as sess:\n",
    "    sess.run(init_op)\n",
    "    print(sess.run(state))\n",
    "    for _ in range(3):\n",
    "        sess.run(update)\n",
    "        print(sess.run(update))"
   ]
  },
  {
   "cell_type": "code",
   "execution_count": 8,
   "id": "882c4b7c",
   "metadata": {},
   "outputs": [
    {
     "name": "stdout",
     "output_type": "stream",
     "text": [
      "0 [0.75478107] [-0.08205453]\n",
      "20 [0.28354654] [0.20110604]\n",
      "40 [0.15050878] [0.27278614]\n",
      "60 [0.11389914] [0.29251122]\n",
      "80 [0.1038248] [0.29793924]\n",
      "100 [0.10105253] [0.29943293]\n",
      "120 [0.10028966] [0.29984394]\n",
      "140 [0.10007972] [0.29995707]\n",
      "160 [0.10002193] [0.2999882]\n",
      "180 [0.10000605] [0.29999676]\n",
      "200 [0.10000167] [0.29999912]\n"
     ]
    }
   ],
   "source": [
    "\n",
    "import tensorflow as tf\n",
    "import tensorflow.compat.v1 as tf1\n",
    "import numpy as np\n",
    "tf1.reset_default_graph()\n",
    "x_data = np.random.rand(100).astype(np.float32)\n",
    "y_data = x_data * 0.1 + 0.3\n",
    "W = tf.Variable(tf.random.uniform([1], -1.0, 1.0), name=\"weight\")\n",
    "b = tf.Variable(tf.zeros([1]), name=\"zeros\")\n",
    "y = W * x_data + b\n",
    "writer = tf1.summary.FileWriter(\"/tmp/lotto1\", graph=tf1.get_default_graph())\n",
    "loss = tf.reduce_mean(tf.square(y - y_data))\n",
    "optimizer = tf1.train.GradientDescentOptimizer(0.5)\n",
    "train = optimizer.minimize(loss)\n",
    "init = tf1.global_variables_initializer()\n",
    "sess = tf1.Session()\n",
    "sess.run(init)\n",
    "for step in range(201):\n",
    "    sess.run(train)\n",
    "    writer = tf1.summary.FileWriter(\"tmp/lotto1\", graph=sess.graph)\n",
    "    if step % 20 == 0:\n",
    "        print(step, sess.run(W), sess.run(b))\n",
    "\n",
    "sess.close()\n"
   ]
  },
  {
   "cell_type": "code",
   "execution_count": 3,
   "id": "ed4f7868",
   "metadata": {},
   "outputs": [
    {
     "name": "stdout",
     "output_type": "stream",
     "text": [
      "0 [0.7414111] [-0.12804663]\n",
      "20 [0.25285485] [0.21025571]\n",
      "40 [0.13519403] [0.27933687]\n",
      "60 [0.10810323] [0.29524243]\n",
      "80 [0.10186573] [0.2989046]\n",
      "100 [0.10042958] [0.2997478]\n",
      "120 [0.10009891] [0.29994193]\n",
      "140 [0.10002278] [0.29998663]\n",
      "160 [0.10000525] [0.2999969]\n",
      "180 [0.10000122] [0.2999993]\n",
      "200 [0.10000029] [0.29999983]\n"
     ]
    }
   ],
   "source": [
    "import tensorflow as tf\n",
    "import tensorflow.compat.v1 as tf1\n",
    "import numpy as np\n",
    "tf1.reset_default_graph()\n",
    "tf1.disable_eager_execution()\n",
    "\n",
    "with tf1.name_scope(\"DefineVariable\"):\n",
    "    x_data = np.random.rand(100).astype(np.float32)\n",
    "    y_data = x_data * 0.1 + 0.3\n",
    "    W = tf.Variable(tf.random.uniform([1], -1.0, 1.0), name=\"weight\")\n",
    "    b = tf.Variable(tf.zeros([1]), name=\"zeros\")\n",
    "    y = W * x_data + b\n",
    "    \n",
    "with tf1.name_scope(\"Logit\"):\n",
    "    loss = tf.reduce_mean(tf.square(y - y_data))\n",
    "    optimizer = tf1.train.GradientDescentOptimizer(0.5)\n",
    "    train = optimizer.minimize(loss)\n",
    "    \n",
    "init = tf1.global_variables_initializer()\n",
    "sess = tf1.Session()\n",
    "sess.run(init)\n",
    "for step in range(201):\n",
    "    sess.run(train)\n",
    "    writer = tf1.summary.FileWriter(\"/tmp/lotto1\", graph=sess.graph)\n",
    "    if step % 20 == 0:\n",
    "        print(step, sess.run(W), sess.run(b))\n",
    "\n",
    "sess.close()"
   ]
  },
  {
   "cell_type": "code",
   "execution_count": 9,
   "id": "1d47056b",
   "metadata": {},
   "outputs": [
    {
     "name": "stdout",
     "output_type": "stream",
     "text": [
      "Way 3\n",
      "\n",
      "rW = [-0.99373245], \n",
      "b = [-0.8594458]\n",
      "\n",
      "rW = [-0.11317813], \n",
      "b = [0.4293017]\n",
      "\n",
      "rW = [-0.06651666], \n",
      "b = [0.40346396]\n",
      "\n",
      "rW = [-0.03093548], \n",
      "b = [0.3813601]\n",
      "\n",
      "rW = [-0.00295876], \n",
      "b = [0.36397606]\n",
      "\n",
      "rW = [0.01904024], \n",
      "b = [0.35030642]\n",
      "\n",
      "rW = [0.03633872], \n",
      "b = [0.3395576]\n",
      "\n",
      "rW = [0.04994111], \n",
      "b = [0.33110538]\n",
      "\n",
      "rW = [0.06063708], \n",
      "b = [0.32445917]\n",
      "\n",
      "rW = [0.06904771], \n",
      "b = [0.319233]\n",
      "\n",
      "rW = [0.07566124], \n",
      "b = [0.31512353]\n"
     ]
    }
   ],
   "source": [
    "import tensorflow as tf\n",
    "import tensorflow.compat.v1 as tf1\n",
    "import numpy as np\n",
    "tf1.enable_eager_execution()\n",
    "x_data = np.random.rand(100).astype('f')\n",
    "y_data = x_data * .1 + .3\n",
    "\n",
    "init = lambda : (tf.Variable(tf.random.uniform([1], -1., 1.), name=\"Weight\"),\n",
    "                 tf.Variable(tf.random.uniform([1], -1., 1.), name=\"Bias\"))\n",
    "W, b = init()\n",
    "yp = lambda x : W*x +b\n",
    "mse = lambda yp, yt : tf.reduce_mean(tf.square(yp - yt))\n",
    "\n",
    "way = 3\n",
    "if way == 1:\n",
    "    print(\"Way 1\")\n",
    "    for step in range(10):\n",
    "        with tf.GradientTape() as tape:\n",
    "            y = yp(x_data)\n",
    "            loss = mse(y, y_data)\n",
    "        grads = tape.gradient(loss, [W, b])\n",
    "        if step % 200 == 0:\n",
    "            print(f\"\\nW : {W.numpy()},\\nb = {b.numpy()},\\ng[0] : {grads[0].numpy()},\\ng[1] :{grads[1].numpy()}\")\n",
    "        W.assign(W - 0.01 * grads[0].numpy())\n",
    "        b.assign(b - 0.01 * grads[1].numpy())\n",
    "elif way == 2:\n",
    "    print(\"Way 2\")\n",
    "    optimizer = tf.optimizers.SGD(learning_rate=0.1)\n",
    "    for step in range(10):\n",
    "        with tf.GradientTape() as tape:\n",
    "            y = yp(x_data)\n",
    "            loss = mse(y, y_data)\n",
    "        grads = tape.gradient(loss, [W, b])\n",
    "        process_grads = [g for g in grads]\n",
    "        grads_and_vars = zip(process_grads, [W, b])\n",
    "        if step % 20 == 0:\n",
    "            print(f\"\\nW={W.numpy()}, \\nb={b.numpy()}, \\ng={grads[0].numpy()}, \\ng[1]={grads[1].numpy()}\")\n",
    "        optimizer.apply_gradients(grads_and_vars)\n",
    "elif way == 3:\n",
    "    print(\"Way 3\")\n",
    "    y_pred, yt = yp(x_data), y_data\n",
    "    optimzier = tf.optimizers.SGD(learning_rate=0.1)\n",
    "    for step in range(201):\n",
    "        if step % 20 == 0:\n",
    "            print(f\"\\nW = {W.numpy()}, \\nb = {b.numpy()}\")\n",
    "        mse_min = lambda : tf.reduce_mean(tf.square((W * x_data + b) - yt))\n",
    "        optimizer.minimize(mse_min, var_list=[W,b])"
   ]
  },
  {
   "cell_type": "markdown",
   "id": "7772ff07",
   "metadata": {},
   "source": [
    "# Cost Function"
   ]
  },
  {
   "cell_type": "code",
   "execution_count": 6,
   "id": "1031bc22",
   "metadata": {},
   "outputs": [],
   "source": [
    "import tensorflow as tf\n",
    "import matplotlib.pyplot as plt\n",
    "X = [40., 22., 91.]\n",
    "Y = [1., 2., 3.]\n",
    "m = len(X)\n",
    "\n",
    "hypothesis = lambda W: tf.multiply(W, X)\n",
    "cost = lambda hx: tf.reduce_sum(tf.pow(hx-Y, 2)) / m"
   ]
  },
  {
   "cell_type": "code",
   "execution_count": 11,
   "id": "4ab0a0bc",
   "metadata": {},
   "outputs": [
    {
     "data": {
      "image/png": "[encoded data removed]",
      "text/plain": [
       "<Figure size 432x288 with 1 Axes>"
      ]
     },
     "metadata": {
      "needs_background": "light"
     },
     "output_type": "display_data"
    }
   ],
   "source": [
    "import numpy as np\n",
    "W_val, cost_val = [], []\n",
    "for i in np.arange(-30, 50, 0.1):\n",
    "    xPos = i\n",
    "    yPos = cost(hypothesis(xPos))\n",
    "#     print(f\"\\nW = {xPos},\\nCost = {yPos}\")\n",
    "    \n",
    "    W_val.append(xPos)\n",
    "    cost_val.append(yPos)\n",
    "\n",
    "plt.plot(W_val, cost_val, 'ro')\n",
    "plt.ylabel(\"Cost\")\n",
    "plt.xlabel('W')\n",
    "plt.show()"
   ]
  },
  {
   "cell_type": "markdown",
   "id": "e648b630",
   "metadata": {},
   "source": [
    "# Optimization & Training"
   ]
  },
  {
   "cell_type": "code",
   "execution_count": 1,
   "id": "05a3abdd",
   "metadata": {},
   "outputs": [],
   "source": [
    "import tensorflow as tf\n",
    "\n",
    "x_data = [1., 2., 3.]\n",
    "y_data = [1., 2., 3.]"
   ]
  },
  {
   "cell_type": "code",
   "execution_count": 2,
   "id": "342c6892",
   "metadata": {},
   "outputs": [],
   "source": [
    "W = tf.Variable(tf.random.uniform([1], -10, 1.0))\n",
    "b = tf.Variable(tf.random.uniform([1], -10, 1.0))\n",
    "\n",
    "hx = lambda x: W * x + b"
   ]
  },
  {
   "cell_type": "code",
   "execution_count": 3,
   "id": "e65b0475",
   "metadata": {},
   "outputs": [],
   "source": [
    "cost = lambda : tf.reduce_mean(tf.square(hx(x_data) - y_data))"
   ]
  },
  {
   "cell_type": "code",
   "execution_count": 4,
   "id": "8d8a519c",
   "metadata": {},
   "outputs": [],
   "source": [
    "rate = tf.Variable(0.01)\n",
    "opt = tf.optimizers.SGD(rate)"
   ]
  },
  {
   "cell_type": "code",
   "execution_count": 5,
   "id": "cd4cf659",
   "metadata": {},
   "outputs": [
    {
     "name": "stdout",
     "output_type": "stream",
     "text": [
      "\n",
      " step : 0, cost : 411.60400390625, W : [-6.814324], b : [-3.629984]\n",
      "\n",
      " step : 20, cost : 3.7352497577667236, W : [0.31677023], b : [-0.48395875]\n",
      "\n",
      " step : 40, cost : 0.03691234812140465, W : [0.99292856], b : [-0.17789622]\n",
      "\n",
      " step : 60, cost : 0.003101018024608493, W : [1.0545869], b : [-0.1425584]\n",
      "\n",
      " step : 80, cost : 0.0025405653286725283, W : [1.057861], b : [-0.13328998]\n",
      "\n",
      " step : 100, cost : 0.002304880879819393, W : [1.0556976], b : [-0.12678124]\n",
      "\n",
      " step : 120, cost : 0.002093304181471467, W : [1.053133], b : [-0.1207997]\n",
      "\n",
      " step : 140, cost : 0.001901173614896834, W : [1.0506411], b : [-0.11512037]\n",
      "\n",
      " step : 160, cost : 0.0017266729846596718, W : [1.0482615], b : [-0.10970994]\n",
      "\n",
      " step : 180, cost : 0.001568200415931642, W : [1.0459934], b : [-0.104554]\n",
      "\n",
      " step : 200, cost : 0.0014242635807022452, W : [1.0438321], b : [-0.09964037]\n",
      "\n",
      " step : 220, cost : 0.001293540932238102, W : [1.0417721], b : [-0.09495766]\n",
      "\n",
      " step : 240, cost : 0.0011748134857043624, W : [1.0398088], b : [-0.09049511]\n",
      "\n",
      " step : 260, cost : 0.0010669826297089458, W : [1.0379379], b : [-0.08624204]\n",
      "\n",
      " step : 280, cost : 0.0009690500446595252, W : [1.036155], b : [-0.08218891]\n",
      "\n",
      " step : 300, cost : 0.0008801102521829307, W : [1.0344559], b : [-0.07832631]\n",
      "\n",
      " step : 320, cost : 0.0007993280305527151, W : [1.0328366], b : [-0.07464525]\n",
      "\n",
      " step : 340, cost : 0.0007259576232172549, W : [1.0312933], b : [-0.07113719]\n",
      "\n",
      " step : 360, cost : 0.0006593255675397813, W : [1.0298226], b : [-0.06779397]\n",
      "\n",
      " step : 380, cost : 0.000598812650423497, W : [1.028421], b : [-0.06460789]\n",
      "\n",
      " step : 400, cost : 0.0005438514053821564, W : [1.0270854], b : [-0.06157155]\n",
      "\n",
      " step : 420, cost : 0.0004939322243444622, W : [1.0258125], b : [-0.05867792]\n",
      "\n",
      " step : 440, cost : 0.0004485993704292923, W : [1.0245996], b : [-0.05592031]\n",
      "\n",
      " step : 460, cost : 0.00040742577402852476, W : [1.0234435], b : [-0.0532923]\n",
      "\n",
      " step : 480, cost : 0.00037002842873334885, W : [1.0223416], b : [-0.05078781]\n",
      "\n",
      " step : 500, cost : 0.00033607016666792333, W : [1.0212917], b : [-0.04840098]\n",
      "\n",
      " step : 520, cost : 0.00030522706219926476, W : [1.0202916], b : [-0.04612654]\n",
      "\n",
      " step : 540, cost : 0.00027721087099052966, W : [1.0193374], b : [-0.04395885]\n",
      "\n",
      " step : 560, cost : 0.00025176737108267844, W : [1.0184287], b : [-0.04189288]\n",
      "\n",
      " step : 580, cost : 0.00022865943901706487, W : [1.0175625], b : [-0.03992398]\n",
      "\n",
      " step : 600, cost : 0.00020767177920788527, W : [1.0167372], b : [-0.03804765]\n",
      "\n",
      " step : 620, cost : 0.0001886088721221313, W : [1.0159507], b : [-0.03625954]\n",
      "\n",
      " step : 640, cost : 0.00017129698244389147, W : [1.015201], b : [-0.03455545]\n",
      "\n",
      " step : 660, cost : 0.00015557442384306341, W : [1.0144866], b : [-0.03293147]\n",
      "\n",
      " step : 680, cost : 0.00014129679766483605, W : [1.0138059], b : [-0.03138381]\n",
      "\n",
      " step : 700, cost : 0.00012832916399929672, W : [1.013157], b : [-0.02990894]\n",
      "\n",
      " step : 720, cost : 0.0001165486391982995, W : [1.0125387], b : [-0.02850333]\n",
      "\n",
      " step : 740, cost : 0.0001058522830135189, W : [1.0119493], b : [-0.02716378]\n",
      "\n",
      " step : 760, cost : 9.613569272914901e-05, W : [1.0113878], b : [-0.02588716]\n",
      "\n",
      " step : 780, cost : 8.731195703148842e-05, W : [1.0108527], b : [-0.02467055]\n",
      "\n",
      " step : 800, cost : 7.92976061347872e-05, W : [1.0103425], b : [-0.02351114]\n",
      "\n",
      " step : 820, cost : 7.202005508588627e-05, W : [1.0098563], b : [-0.02240612]\n",
      "\n",
      " step : 840, cost : 6.540945469168946e-05, W : [1.0093932], b : [-0.02135306]\n",
      "\n",
      " step : 860, cost : 5.9406065702205524e-05, W : [1.0089518], b : [-0.02034952]\n",
      "\n",
      " step : 880, cost : 5.3952924645273015e-05, W : [1.0085311], b : [-0.01939315]\n",
      "\n",
      " step : 900, cost : 4.90015372633934e-05, W : [1.0081302], b : [-0.01848173]\n",
      "\n",
      " step : 920, cost : 4.450298729352653e-05, W : [1.007748], b : [-0.01761316]\n",
      "\n",
      " step : 940, cost : 4.041913052788004e-05, W : [1.007384], b : [-0.01678541]\n",
      "\n",
      " step : 960, cost : 3.670948717626743e-05, W : [1.0070369], b : [-0.01599656]\n",
      "\n",
      " step : 980, cost : 3.3339303627144545e-05, W : [1.0067061], b : [-0.01524477]\n"
     ]
    }
   ],
   "source": [
    "for step in range(1000):\n",
    "    if step % 20 == 0:\n",
    "        print(f\"\\n step : {step}, cost : {cost().numpy()}, W : {W.numpy()}, b : {b.numpy()}\")\n",
    "    opt.minimize(cost, var_list=[W, b])"
   ]
  },
  {
   "cell_type": "code",
   "execution_count": 6,
   "id": "90711191",
   "metadata": {},
   "outputs": [
    {
     "name": "stdout",
     "output_type": "stream",
     "text": [
      "\n",
      " step : 0, cost : 3.0134033295325935e-05, W : [1.0063757], b : [-0.01449334]\n",
      "\n",
      " step : 20, cost : 2.7368159862817265e-05, W : [1.0060761], b : [-0.01381223]\n",
      "\n",
      " step : 40, cost : 2.485652112227399e-05, W : [1.0057905], b : [-0.01316313]\n",
      "\n",
      " step : 60, cost : 2.257427513541188e-05, W : [1.0055183], b : [-0.01254452]\n",
      "\n",
      " step : 80, cost : 2.050313378276769e-05, W : [1.005259], b : [-0.011955]\n",
      "\n",
      " step : 100, cost : 1.86212346307002e-05, W : [1.0050118], b : [-0.01139314]\n",
      "\n",
      " step : 120, cost : 1.6911948478082195e-05, W : [1.0047762], b : [-0.01085766]\n",
      "\n",
      " step : 140, cost : 1.5359639292000793e-05, W : [1.0045519], b : [-0.01034738]\n",
      "\n",
      " step : 160, cost : 1.3949888852948789e-05, W : [1.0043379], b : [-0.00986113]\n",
      "\n",
      " step : 180, cost : 1.2669447642110754e-05, W : [1.004134], b : [-0.00939773]\n",
      "\n",
      " step : 200, cost : 1.1507218914630357e-05, W : [1.0039397], b : [-0.00895607]\n",
      "\n",
      " step : 220, cost : 1.0450595254951622e-05, W : [1.0037546], b : [-0.00853515]\n",
      "\n",
      " step : 240, cost : 9.491355740465224e-06, W : [1.0035782], b : [-0.00813407]\n",
      "\n",
      " step : 260, cost : 8.620639164291788e-06, W : [1.0034101], b : [-0.00775181]\n",
      "\n",
      " step : 280, cost : 7.829172318452038e-06, W : [1.0032498], b : [-0.00738755]\n",
      "\n",
      " step : 300, cost : 7.110855676728534e-06, W : [1.003097], b : [-0.00704036]\n",
      "\n",
      " step : 320, cost : 6.45775071461685e-06, W : [1.0029515], b : [-0.00670952]\n",
      "\n",
      " step : 340, cost : 5.865473667654442e-06, W : [1.0028129], b : [-0.00639423]\n",
      "\n",
      " step : 360, cost : 5.327141479938291e-06, W : [1.0026808], b : [-0.00609376]\n",
      "\n",
      " step : 380, cost : 4.838225777348271e-06, W : [1.0025548], b : [-0.00580744]\n",
      "\n",
      " step : 400, cost : 4.394117695483146e-06, W : [1.0024347], b : [-0.00553455]\n",
      "\n",
      " step : 420, cost : 3.991262474301038e-06, W : [1.0023204], b : [-0.00527451]\n",
      "\n",
      " step : 440, cost : 3.624722694439697e-06, W : [1.0022113], b : [-0.00502671]\n",
      "\n",
      " step : 460, cost : 3.2921836918831104e-06, W : [1.0021073], b : [-0.00479049]\n",
      "\n",
      " step : 480, cost : 2.9898601496824995e-06, W : [1.0020083], b : [-0.0045654]\n",
      "\n",
      " step : 500, cost : 2.7157002477906644e-06, W : [1.001914], b : [-0.00435091]\n",
      "\n",
      " step : 520, cost : 2.4663993372087134e-06, W : [1.0018241], b : [-0.00414647]\n",
      "\n",
      " step : 540, cost : 2.2401143269235035e-06, W : [1.0017384], b : [-0.00395163]\n",
      "\n",
      " step : 560, cost : 2.034543513218523e-06, W : [1.0016567], b : [-0.00376596]\n",
      "\n",
      " step : 580, cost : 1.8479231584933586e-06, W : [1.0015789], b : [-0.00358904]\n",
      "\n",
      " step : 600, cost : 1.6783586715973797e-06, W : [1.0015047], b : [-0.00342039]\n",
      "\n",
      " step : 620, cost : 1.5244035012074164e-06, W : [1.0014341], b : [-0.00325971]\n",
      "\n",
      " step : 640, cost : 1.3844919521943666e-06, W : [1.0013666], b : [-0.00310659]\n",
      "\n",
      " step : 660, cost : 1.2575077334986418e-06, W : [1.0013025], b : [-0.00296067]\n",
      "\n",
      " step : 680, cost : 1.142148903454654e-06, W : [1.0012414], b : [-0.00282161]\n",
      "\n",
      " step : 700, cost : 1.037513015944569e-06, W : [1.0011832], b : [-0.00268913]\n",
      "\n",
      " step : 720, cost : 9.422976745554479e-07, W : [1.0011275], b : [-0.00256284]\n",
      "\n",
      " step : 740, cost : 8.557817068322038e-07, W : [1.0010746], b : [-0.00244249]\n",
      "\n",
      " step : 760, cost : 7.772516141812957e-07, W : [1.0010241], b : [-0.00232783]\n",
      "\n",
      " step : 780, cost : 7.06155560692423e-07, W : [1.0009761], b : [-0.00221856]\n",
      "\n",
      " step : 800, cost : 6.413425239770731e-07, W : [1.0009303], b : [-0.00211442]\n",
      "\n",
      " step : 820, cost : 5.826237270412093e-07, W : [1.0008867], b : [-0.00201515]\n",
      "\n",
      " step : 840, cost : 5.292544642543362e-07, W : [1.0008451], b : [-0.00192052]\n",
      "\n",
      " step : 860, cost : 4.806393008038867e-07, W : [1.0008054], b : [-0.00183035]\n",
      "\n",
      " step : 880, cost : 4.3657595938384475e-07, W : [1.0007674], b : [-0.00174446]\n",
      "\n",
      " step : 900, cost : 3.966256088006048e-07, W : [1.0007316], b : [-0.00166265]\n",
      "\n",
      " step : 920, cost : 3.602879132813541e-07, W : [1.0006974], b : [-0.00158461]\n",
      "\n",
      " step : 940, cost : 3.2726356380408106e-07, W : [1.0006645], b : [-0.00151024]\n",
      "\n",
      " step : 960, cost : 2.973393975480576e-07, W : [1.0006334], b : [-0.00143943]\n",
      "\n",
      " step : 980, cost : 2.700653283227439e-07, W : [1.0006038], b : [-0.00137186]\n"
     ]
    }
   ],
   "source": [
    "for step in range(1000):\n",
    "    with tf.GradientTape() as tape:\n",
    "        y_pred, y_true = hx(x_data), y_data\n",
    "        loss = tf.reduce_mean(tf.square(y_pred - y_true))\n",
    "    grads = tape.gradient(loss, [W, b])\n",
    "    opt.apply_gradients(zip(grads, [W, b]))\n",
    "    if step % 20 == 0:\n",
    "        print(f\"\\n step : {step}, cost : {cost().numpy()}, W : {W.numpy()}, b : {b.numpy()}\")"
   ]
  },
  {
   "cell_type": "markdown",
   "id": "17200904",
   "metadata": {},
   "source": [
    "# Test"
   ]
  },
  {
   "cell_type": "code",
   "execution_count": 8,
   "id": "61691d7d",
   "metadata": {},
   "outputs": [
    {
     "name": "stdout",
     "output_type": "stream",
     "text": [
      "x=[2.5001307], x = 10 : [10.004456], x = [2.5, 10] : [ 2.5001307 10.004456 ]\n"
     ]
    }
   ],
   "source": [
    "print(f\"x={hx(2.5).numpy()}, x = 10 : {hx(10).numpy()}, x = [2.5, 10] : {hx([2.5, 10]).numpy()}\")"
   ]
  },
  {
   "cell_type": "markdown",
   "id": "1b8c6e4b",
   "metadata": {},
   "source": [
    "# Logistic Regression\n",
    "# Binary Cross Entropy"
   ]
  },
  {
   "cell_type": "code",
   "execution_count": 11,
   "id": "c4c36f4c",
   "metadata": {},
   "outputs": [],
   "source": [
    "import tensorflow as tf\n",
    "import numpy as np\n",
    "tf.get_logger().setLevel('ERROR')\n",
    "\n",
    "xy = np.loadtxt(\"train.csv\", delimiter=',', unpack=True, dtype=\"float32\")"
   ]
  },
  {
   "cell_type": "code",
   "execution_count": 15,
   "id": "ff9c1309",
   "metadata": {},
   "outputs": [],
   "source": [
    "x_data = xy[:-1]\n",
    "y_data = xy[-1]\n",
    "W = tf.Variable(tf.random.uniform([1, len(x_data)], -1.0, 1.0))\n",
    "h = lambda X: tf.matmul(W, X)\n",
    "hx = lambda X: tf.math.divide(1., 1. + tf.math.exp(-h(X)))"
   ]
  },
  {
   "cell_type": "code",
   "execution_count": 16,
   "id": "74f7c43e",
   "metadata": {},
   "outputs": [],
   "source": [
    "cost = lambda Y: -tf.reduce_mean(Y * tf.math.log(hx(x_data)) +(1 - Y) * tf.math.log(1 - hx(x_data)))\n",
    "rate = tf.Variable(.1)\n",
    "opt = tf.optimizers.SGD(rate)"
   ]
  },
  {
   "cell_type": "code",
   "execution_count": 22,
   "id": "d7f8667e",
   "metadata": {},
   "outputs": [
    {
     "name": "stdout",
     "output_type": "stream",
     "text": [
      "step : 0, grad : [[0.34711632 0.01776681 0.03512052]]\n",
      "\n",
      "step : 200, grad : [[-1.6455262   0.14467394  0.37373805]]\n",
      "\n",
      "step : 400, grad : [[-2.80193     0.2576081   0.53397244]]\n",
      "\n",
      "step : 600, grad : [[-3.576776    0.3253545   0.64777553]]\n",
      "\n",
      "step : 800, grad : [[-4.149074    0.3700175   0.73571414]]\n",
      "\n",
      "step : 1000, grad : [[-4.5986185   0.40156808  0.80717826]]\n",
      "\n",
      "step : 1200, grad : [[-4.9666743   0.42498264  0.8672526 ]]\n",
      "\n",
      "step : 1400, grad : [[-5.277057    0.44300857  0.91899455]]\n",
      "\n",
      "step : 1600, grad : [[-5.544655    0.45728606  0.9643812 ]]\n",
      "\n",
      "step : 1800, grad : [[-5.779359    0.46885464  1.0047662 ]]\n",
      "\n",
      "step : 2000, grad : [[-5.9880476  0.4784051  1.0411146]]\n",
      "\n",
      "------------------------------------------------------------\n",
      "[1, 2, 2] : [[0.04978339]]\n",
      "[1, 5, 5] : [[0.83334905]]\n",
      "[1, 2, 2], [1, 5, 5] : [[0.04978339 0.83334905]]\n"
     ]
    }
   ],
   "source": [
    "for step in range(2001):\n",
    "    with tf.GradientTape() as tape:\n",
    "        y = hx(x_data)\n",
    "        loss = cost(y_data)\n",
    "    grads = tape.gradient(loss, [W, b])\n",
    "    opt.apply_gradients(zip(grads, [W, b]))\n",
    "    \n",
    "    if step % 200 == 0:\n",
    "        print(f\"step : {step}, grad : {W.numpy()}\\n\")\n",
    "    \n",
    "print('-'*60)\n",
    "\n",
    "print(f'[1, 2, 2] : {hx([[1.], [2.], [2.]])}')\n",
    "print(f'[1, 5, 5] : {hx([[1.], [5.], [5.]])}')\n",
    "print(f'[1, 2, 2], [1, 5, 5] : {hx([[1., 1.], [2., 5.], [2., 5.]])}')\n",
    "              "
   ]
  },
  {
   "cell_type": "code",
   "execution_count": null,
   "id": "7dc88084",
   "metadata": {},
   "outputs": [],
   "source": []
  }
 ],
 "metadata": {
  "kernelspec": {
   "display_name": "Python 3",
   "language": "python",
   "name": "python3"
  },
  "language_info": {
   "codemirror_mode": {
    "name": "ipython",
    "version": 3
   },
   "file_extension": ".py",
   "mimetype": "text/x-python",
   "name": "python",
   "nbconvert_exporter": "python",
   "pygments_lexer": "ipython3",
   "version": "3.6.9"
  }
 },
 "nbformat": 4,
 "nbformat_minor": 5
}
