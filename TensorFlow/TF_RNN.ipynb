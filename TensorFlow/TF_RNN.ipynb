{
 "cells": [
  {
   "cell_type": "markdown",
   "id": "dbf5b045",
   "metadata": {},
   "source": [
    "# LSTM"
   ]
  },
  {
   "cell_type": "code",
   "execution_count": 27,
   "id": "a37ebb92",
   "metadata": {},
   "outputs": [
    {
     "name": "stdout",
     "output_type": "stream",
     "text": [
      "(8, 9)\n",
      "[[ 2  4  6  8 10 12 14 16 18]\n",
      " [ 3  6  9 12 15 18 21 24 27]\n",
      " [ 4  8 12 16 20 24 28 32 36]\n",
      " [ 5 10 15 20 25 30 35 40 45]\n",
      " [ 6 12 18 24 30 36 42 48 54]\n",
      " [ 7 14 21 28 35 42 49 56 63]\n",
      " [ 8 16 24 32 40 48 56 64 72]\n",
      " [ 9 18 27 36 45 54 63 72 81]]\n",
      "(8,)\n",
      "[2 3 4 5 6 7 8 9]\n",
      "(8,)\n",
      "WARNING:tensorflow:Layer lstm_2 will not use cuDNN kernel since it doesn't meet the cuDNN kernel criteria. It will use generic GPU kernel as fallback when running on GPU\n"
     ]
    }
   ],
   "source": [
    "from numpy import array, newaxis, random\n",
    "from tensorflow.keras.models import Sequential\n",
    "from tensorflow.keras.layers import Dense, LSTM\n",
    "\n",
    "x = array(([[i*j for i in range(1, 10)] for j in range(2, 10)]))\n",
    "y = array([i+2 for i in range(8)])\n",
    "print(x.shape)\n",
    "print(x)\n",
    "print(y.shape)\n",
    "print(y)\n",
    "\n",
    "x = x[..., newaxis]\n",
    "print(y.shape)\n",
    "\n",
    "model = Sequential()\n",
    "model.add(LSTM(20, activation=\"relu\", input_shape=(9, 1)))\n",
    "model.add(Dense(5))\n",
    "model.add(Dense(1))\n",
    "model.compile(optimizer=\"adam\", loss=\"mse\")"
   ]
  },
  {
   "cell_type": "code",
   "execution_count": 28,
   "id": "6c27755c",
   "metadata": {},
   "outputs": [
    {
     "name": "stdout",
     "output_type": "stream",
     "text": [
      "Epoch 1/1000\n",
      "8/8 - 0s - loss: 1255.4285\n",
      "Epoch 2/1000\n",
      "8/8 - 0s - loss: 519.6676\n",
      "Epoch 3/1000\n",
      "8/8 - 0s - loss: 58.0305\n",
      "Epoch 4/1000\n",
      "8/8 - 0s - loss: 18.7594\n",
      "Epoch 5/1000\n",
      "8/8 - 0s - loss: 20.0714\n",
      "Epoch 6/1000\n",
      "8/8 - 0s - loss: 3.9827\n",
      "Epoch 7/1000\n",
      "8/8 - 0s - loss: 2.8630\n",
      "Epoch 8/1000\n",
      "8/8 - 0s - loss: 0.3911\n",
      "Epoch 9/1000\n",
      "8/8 - 0s - loss: 0.9784\n",
      "Epoch 10/1000\n",
      "8/8 - 0s - loss: 0.2676\n",
      "Epoch 11/1000\n",
      "8/8 - 0s - loss: 0.2183\n",
      "Epoch 12/1000\n",
      "8/8 - 0s - loss: 0.1523\n",
      "Epoch 13/1000\n",
      "8/8 - 0s - loss: 0.1224\n",
      "Epoch 14/1000\n",
      "8/8 - 0s - loss: 0.1262\n",
      "Epoch 15/1000\n",
      "8/8 - 0s - loss: 0.1011\n",
      "Epoch 16/1000\n",
      "8/8 - 0s - loss: 0.0985\n",
      "Epoch 17/1000\n",
      "8/8 - 0s - loss: 0.0918\n",
      "Epoch 18/1000\n",
      "8/8 - 0s - loss: 0.0914\n",
      "Epoch 19/1000\n",
      "8/8 - 0s - loss: 0.0897\n",
      "Epoch 20/1000\n",
      "8/8 - 0s - loss: 0.0848\n",
      "Epoch 21/1000\n",
      "8/8 - 0s - loss: 0.0849\n",
      "Epoch 22/1000\n",
      "8/8 - 0s - loss: 0.0790\n",
      "Epoch 23/1000\n",
      "8/8 - 0s - loss: 0.0784\n",
      "Epoch 24/1000\n",
      "8/8 - 0s - loss: 0.0754\n",
      "Epoch 25/1000\n",
      "8/8 - 0s - loss: 0.0767\n",
      "Epoch 26/1000\n",
      "8/8 - 0s - loss: 0.0702\n",
      "Epoch 27/1000\n",
      "8/8 - 0s - loss: 0.0656\n",
      "Epoch 28/1000\n",
      "8/8 - 0s - loss: 0.0690\n",
      "Epoch 29/1000\n",
      "8/8 - 0s - loss: 0.0691\n",
      "Epoch 30/1000\n",
      "8/8 - 0s - loss: 0.0631\n",
      "Epoch 31/1000\n",
      "8/8 - 0s - loss: 0.0580\n",
      "Epoch 32/1000\n",
      "8/8 - 0s - loss: 0.0589\n",
      "Epoch 33/1000\n",
      "8/8 - 0s - loss: 0.0558\n",
      "Epoch 34/1000\n",
      "8/8 - 0s - loss: 0.0585\n",
      "Epoch 35/1000\n",
      "8/8 - 0s - loss: 0.0508\n",
      "Epoch 36/1000\n",
      "8/8 - 0s - loss: 0.0541\n",
      "Epoch 37/1000\n",
      "8/8 - 0s - loss: 0.0477\n",
      "Epoch 38/1000\n",
      "8/8 - 0s - loss: 0.0466\n",
      "Epoch 39/1000\n",
      "8/8 - 0s - loss: 0.0396\n",
      "Epoch 40/1000\n",
      "8/8 - 0s - loss: 0.0404\n",
      "Epoch 41/1000\n",
      "8/8 - 0s - loss: 0.0356\n",
      "Epoch 42/1000\n",
      "8/8 - 0s - loss: 0.0324\n",
      "Epoch 43/1000\n",
      "8/8 - 0s - loss: 0.0317\n",
      "Epoch 44/1000\n",
      "8/8 - 0s - loss: 0.0349\n",
      "Epoch 45/1000\n",
      "8/8 - 0s - loss: 0.0280\n",
      "Epoch 46/1000\n",
      "8/8 - 0s - loss: 0.0267\n",
      "Epoch 47/1000\n",
      "8/8 - 0s - loss: 0.0297\n",
      "Epoch 48/1000\n",
      "8/8 - 0s - loss: 0.0214\n",
      "Epoch 49/1000\n",
      "8/8 - 0s - loss: 0.0194\n",
      "Epoch 50/1000\n",
      "8/8 - 0s - loss: 0.0235\n",
      "Epoch 51/1000\n",
      "8/8 - 0s - loss: 0.0171\n",
      "Epoch 52/1000\n",
      "8/8 - 0s - loss: 0.0167\n",
      "Epoch 53/1000\n",
      "8/8 - 0s - loss: 0.0140\n",
      "Epoch 54/1000\n",
      "8/8 - 0s - loss: 0.0131\n",
      "Epoch 55/1000\n",
      "8/8 - 0s - loss: 0.0102\n",
      "Epoch 56/1000\n",
      "8/8 - 0s - loss: 0.0158\n",
      "Epoch 57/1000\n",
      "8/8 - 0s - loss: 0.0096\n",
      "Epoch 58/1000\n",
      "8/8 - 0s - loss: 0.0097\n",
      "Epoch 59/1000\n",
      "8/8 - 0s - loss: 0.0082\n",
      "Epoch 60/1000\n",
      "8/8 - 0s - loss: 0.0115\n",
      "Epoch 61/1000\n",
      "8/8 - 0s - loss: 0.0072\n",
      "Epoch 62/1000\n",
      "8/8 - 0s - loss: 0.0077\n",
      "Epoch 63/1000\n",
      "8/8 - 0s - loss: 0.0077\n",
      "Epoch 64/1000\n",
      "8/8 - 0s - loss: 0.0084\n"
     ]
    },
    {
     "data": {
      "text/plain": [
       "<tensorflow.python.keras.callbacks.History at 0x7ee814b828>"
      ]
     },
     "execution_count": 28,
     "metadata": {},
     "output_type": "execute_result"
    }
   ],
   "source": [
    "from tensorflow.keras.callbacks import EarlyStopping\n",
    "early_stopping = EarlyStopping(monitor=\"loss\", patience=3)\n",
    "model.fit(x, y, epochs=1000, batch_size=1, verbose=2, callbacks=[early_stopping])"
   ]
  },
  {
   "cell_type": "code",
   "execution_count": 29,
   "id": "eaf8367e",
   "metadata": {},
   "outputs": [
    {
     "name": "stdout",
     "output_type": "stream",
     "text": [
      "x_input:\n",
      " [[[ 15]\n",
      "  [ 30]\n",
      "  [ 45]\n",
      "  [ 60]\n",
      "  [ 75]\n",
      "  [ 90]\n",
      "  [105]\n",
      "  [120]\n",
      "  [135]]]\n",
      "y_hat:\n",
      " 12.239938735961914\n"
     ]
    }
   ],
   "source": [
    "x_input = array([(i+1)*15 for i in range(9)]).reshape(1, 9, 1)\n",
    "print(f\"x_input:\\n {x_input}\")\n",
    "y_hat = model.predict(x_input)\n",
    "print(f\"y_hat:\\n {y_hat[0][0]}\")"
   ]
  },
  {
   "cell_type": "markdown",
   "id": "f0ed9de1",
   "metadata": {},
   "source": [
    "# RNN"
   ]
  },
  {
   "cell_type": "code",
   "execution_count": 39,
   "id": "90cf71ac",
   "metadata": {
    "scrolled": true
   },
   "outputs": [
    {
     "name": "stdout",
     "output_type": "stream",
     "text": [
      "WARNING:tensorflow:Layer lstm_3 will not use cuDNN kernel since it doesn't meet the cuDNN kernel criteria. It will use generic GPU kernel as fallback when running on GPU\n"
     ]
    }
   ],
   "source": [
    "from numpy import array, newaxis, random\n",
    "from tensorflow.keras.models import Sequential\n",
    "from tensorflow.keras.layers import Dense, SimpleRNN\n",
    "model = Sequential()\n",
    "model.add(SimpleRNN(3, activation=\"relu\", input_shape=(9, 1)))\n",
    "model.add(Dense(5))\n",
    "model.add(Dense(1))\n",
    "model.compile(optimizer=\"adam\", loss=\"mse\")"
   ]
  },
  {
   "cell_type": "code",
   "execution_count": 40,
   "id": "5b9e96d3",
   "metadata": {},
   "outputs": [
    {
     "name": "stdout",
     "output_type": "stream",
     "text": [
      "Model: \"sequential_9\"\n",
      "_________________________________________________________________\n",
      "Layer (type)                 Output Shape              Param #   \n",
      "=================================================================\n",
      "lstm_3 (LSTM)                (None, 1)                 12        \n",
      "_________________________________________________________________\n",
      "dense_16 (Dense)             (None, 5)                 10        \n",
      "_________________________________________________________________\n",
      "dense_17 (Dense)             (None, 1)                 6         \n",
      "=================================================================\n",
      "Total params: 28\n",
      "Trainable params: 28\n",
      "Non-trainable params: 0\n",
      "_________________________________________________________________\n"
     ]
    }
   ],
   "source": [
    "model.summary()"
   ]
  },
  {
   "cell_type": "code",
   "execution_count": 31,
   "id": "74656a67",
   "metadata": {},
   "outputs": [
    {
     "name": "stdout",
     "output_type": "stream",
     "text": [
      "Epoch 1/1000\n",
      "8/8 - 0s - loss: 375.8824\n",
      "Epoch 2/1000\n",
      "8/8 - 0s - loss: 21.4433\n",
      "Epoch 3/1000\n",
      "8/8 - 0s - loss: 22.2808\n",
      "Epoch 4/1000\n",
      "8/8 - 0s - loss: 11.7915\n",
      "Epoch 5/1000\n",
      "8/8 - 0s - loss: 1.7029\n",
      "Epoch 6/1000\n",
      "8/8 - 0s - loss: 2.7743\n",
      "Epoch 7/1000\n",
      "8/8 - 0s - loss: 0.3151\n",
      "Epoch 8/1000\n",
      "8/8 - 0s - loss: 0.5525\n",
      "Epoch 9/1000\n",
      "8/8 - 0s - loss: 0.0379\n",
      "Epoch 10/1000\n",
      "8/8 - 0s - loss: 0.1036\n",
      "Epoch 11/1000\n",
      "8/8 - 0s - loss: 0.0109\n",
      "Epoch 12/1000\n",
      "8/8 - 0s - loss: 0.0169\n",
      "Epoch 13/1000\n",
      "8/8 - 0s - loss: 0.0063\n",
      "Epoch 14/1000\n",
      "8/8 - 0s - loss: 0.0059\n",
      "Epoch 15/1000\n",
      "8/8 - 0s - loss: 0.0044\n",
      "Epoch 16/1000\n",
      "8/8 - 0s - loss: 0.0046\n",
      "Epoch 17/1000\n",
      "8/8 - 0s - loss: 0.0043\n",
      "Epoch 18/1000\n",
      "8/8 - 0s - loss: 0.0055\n",
      "Epoch 19/1000\n",
      "8/8 - 0s - loss: 0.0043\n",
      "Epoch 20/1000\n",
      "8/8 - 0s - loss: 0.0047\n",
      "Epoch 21/1000\n",
      "8/8 - 0s - loss: 0.0042\n",
      "Epoch 22/1000\n",
      "8/8 - 0s - loss: 0.0040\n",
      "Epoch 23/1000\n",
      "8/8 - 0s - loss: 0.0042\n",
      "Epoch 24/1000\n",
      "8/8 - 0s - loss: 0.0044\n",
      "Epoch 25/1000\n",
      "8/8 - 0s - loss: 0.0041\n"
     ]
    },
    {
     "data": {
      "text/plain": [
       "<tensorflow.python.keras.callbacks.History at 0x7ea150a940>"
      ]
     },
     "execution_count": 31,
     "metadata": {},
     "output_type": "execute_result"
    }
   ],
   "source": [
    "from tensorflow.keras.callbacks import EarlyStopping\n",
    "early_stopping = EarlyStopping(monitor=\"loss\", patience=3)\n",
    "model.fit(x, y, epochs=1000, batch_size=1, verbose=2, callbacks=[early_stopping])"
   ]
  },
  {
   "cell_type": "code",
   "execution_count": 32,
   "id": "d248cf02",
   "metadata": {},
   "outputs": [
    {
     "name": "stdout",
     "output_type": "stream",
     "text": [
      "x_input:\n",
      " [[[ 15]\n",
      "  [ 30]\n",
      "  [ 45]\n",
      "  [ 60]\n",
      "  [ 75]\n",
      "  [ 90]\n",
      "  [105]\n",
      "  [120]\n",
      "  [135]]]\n",
      "WARNING:tensorflow:5 out of the last 15 calls to <function Model.make_predict_function.<locals>.predict_function at 0x7ea2dfa0d0> triggered tf.function retracing. Tracing is expensive and the excessive number of tracings could be due to (1) creating @tf.function repeatedly in a loop, (2) passing tensors with different shapes, (3) passing Python objects instead of tensors. For (1), please define your @tf.function outside of the loop. For (2), @tf.function has experimental_relax_shapes=True option that relaxes argument shapes that can avoid unnecessary retracing. For (3), please refer to https://www.tensorflow.org/tutorials/customization/performance#python_or_tensor_args and https://www.tensorflow.org/api_docs/python/tf/function for  more details.\n",
      "y_hat:\n",
      " 14.785452842712402\n"
     ]
    }
   ],
   "source": [
    "x_input = array([(i+1)*15 for i in range(9)]).reshape(1, 9, 1)\n",
    "print(f\"x_input:\\n {x_input}\")\n",
    "y_hat = model.predict(x_input)\n",
    "print(f\"y_hat:\\n {y_hat[0][0]}\")"
   ]
  },
  {
   "cell_type": "code",
   "execution_count": null,
   "id": "a158a597",
   "metadata": {},
   "outputs": [],
   "source": []
  },
  {
   "cell_type": "code",
   "execution_count": null,
   "id": "da555750",
   "metadata": {},
   "outputs": [],
   "source": []
  }
 ],
 "metadata": {
  "kernelspec": {
   "display_name": "Python 3",
   "language": "python",
   "name": "python3"
  },
  "language_info": {
   "codemirror_mode": {
    "name": "ipython",
    "version": 3
   },
   "file_extension": ".py",
   "mimetype": "text/x-python",
   "name": "python",
   "nbconvert_exporter": "python",
   "pygments_lexer": "ipython3",
   "version": "3.6.9"
  }
 },
 "nbformat": 4,
 "nbformat_minor": 5
}
