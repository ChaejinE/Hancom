{
 "cells": [
  {
   "cell_type": "code",
   "execution_count": 1,
   "id": "efec392a",
   "metadata": {},
   "outputs": [
    {
     "name": "stdout",
     "output_type": "stream",
     "text": [
      "WARNING:tensorflow:Deprecation warnings have been disabled. Set TF_ENABLE_DEPRECATION_WARNINGS=1 to re-enable them.\n"
     ]
    }
   ],
   "source": [
    "import tensorflow as tf"
   ]
  },
  {
   "cell_type": "code",
   "execution_count": 2,
   "id": "74fb0c53",
   "metadata": {},
   "outputs": [
    {
     "data": {
      "text/plain": [
       "'1.15.4'"
      ]
     },
     "execution_count": 2,
     "metadata": {},
     "output_type": "execute_result"
    }
   ],
   "source": [
    "tf.__version__"
   ]
  },
  {
   "cell_type": "markdown",
   "id": "1e8b54b1",
   "metadata": {},
   "source": [
    "# 1. 왜 하는 것이지 ?"
   ]
  },
  {
   "cell_type": "code",
   "execution_count": 5,
   "id": "529dedb8",
   "metadata": {},
   "outputs": [
    {
     "name": "stdout",
     "output_type": "stream",
     "text": [
      "12\n",
      "Hello World\n"
     ]
    }
   ],
   "source": [
    "x = 34 - 23\n",
    "y = \"Hello\"\n",
    "z = 3.45\n",
    "if z == 3.45 or y == \"hello\":\n",
    "    x += 1\n",
    "    y += \" World\"\n",
    "\n",
    "print(x)\n",
    "print(y)"
   ]
  },
  {
   "cell_type": "markdown",
   "id": "b174e7f8",
   "metadata": {},
   "source": [
    "# 2. 키워드에 있는지 확인히는 용도"
   ]
  },
  {
   "cell_type": "code",
   "execution_count": 7,
   "id": "2a434b91",
   "metadata": {},
   "outputs": [
    {
     "data": {
      "text/plain": [
       "True"
      ]
     },
     "execution_count": 7,
     "metadata": {},
     "output_type": "execute_result"
    }
   ],
   "source": [
    "from keyword import kwlist\n",
    "\"try\" in kwlist"
   ]
  },
  {
   "cell_type": "markdown",
   "id": "3e6fde75",
   "metadata": {},
   "source": [
    "# 3. 참조"
   ]
  },
  {
   "cell_type": "code",
   "execution_count": 8,
   "id": "f9650609",
   "metadata": {},
   "outputs": [
    {
     "data": {
      "text/plain": [
       "[1, 2, 3, 4]"
      ]
     },
     "execution_count": 8,
     "metadata": {},
     "output_type": "execute_result"
    }
   ],
   "source": [
    "a = [1, 2, 3]\n",
    "b = a\n",
    "a.append(4)\n",
    "b"
   ]
  },
  {
   "cell_type": "code",
   "execution_count": 11,
   "id": "30b5669e",
   "metadata": {},
   "outputs": [
    {
     "data": {
      "text/plain": [
       "[1, 2, 3]"
      ]
     },
     "execution_count": 11,
     "metadata": {},
     "output_type": "execute_result"
    }
   ],
   "source": [
    "a = [1, 2, 3]\n",
    "b = a.copy()\n",
    "a.append(4)\n",
    "b"
   ]
  },
  {
   "cell_type": "code",
   "execution_count": 14,
   "id": "dc722789",
   "metadata": {},
   "outputs": [
    {
     "data": {
      "text/plain": [
       "[1, 2, 3]"
      ]
     },
     "execution_count": 14,
     "metadata": {},
     "output_type": "execute_result"
    }
   ],
   "source": [
    "b"
   ]
  },
  {
   "cell_type": "code",
   "execution_count": 15,
   "id": "9011fc62",
   "metadata": {},
   "outputs": [],
   "source": [
    "import copy\n",
    "a = [1, 2, 3]"
   ]
  },
  {
   "cell_type": "code",
   "execution_count": 16,
   "id": "67157faa",
   "metadata": {},
   "outputs": [
    {
     "data": {
      "text/plain": [
       "[1, 2, 3]"
      ]
     },
     "execution_count": 16,
     "metadata": {},
     "output_type": "execute_result"
    }
   ],
   "source": [
    "b = copy.deepcopy(a)\n",
    "a.append(4)\n",
    "b"
   ]
  },
  {
   "cell_type": "code",
   "execution_count": 18,
   "id": "61c1532b",
   "metadata": {},
   "outputs": [
    {
     "data": {
      "text/plain": [
       "[1, 2, 3]"
      ]
     },
     "execution_count": 18,
     "metadata": {},
     "output_type": "execute_result"
    }
   ],
   "source": [
    "a = [1, 2, 3]\n",
    "b = a[:]\n",
    "a.append(4)\n",
    "b"
   ]
  },
  {
   "cell_type": "markdown",
   "id": "0d4eff9a",
   "metadata": {},
   "source": [
    "# 4. Mutable VS Immutable"
   ]
  },
  {
   "cell_type": "code",
   "execution_count": 21,
   "id": "cce36d6a",
   "metadata": {},
   "outputs": [],
   "source": [
    "tu = (23, \"abc\", 4.56, (2, 3), \"def\")\n",
    "li = [\"abc\", 34, 4.34, 23]\n",
    "li[2] = 3.14"
   ]
  },
  {
   "cell_type": "code",
   "execution_count": 22,
   "id": "1dd1ce3b",
   "metadata": {},
   "outputs": [
    {
     "data": {
      "text/plain": [
       "['abc', 34, 3.14, 23]"
      ]
     },
     "execution_count": 22,
     "metadata": {},
     "output_type": "execute_result"
    }
   ],
   "source": [
    "li"
   ]
  },
  {
   "cell_type": "code",
   "execution_count": 25,
   "id": "b210c790",
   "metadata": {},
   "outputs": [
    {
     "data": {
      "text/plain": [
       "(23, 'abc', 3.14, (2, 3), 'def')"
      ]
     },
     "execution_count": 25,
     "metadata": {},
     "output_type": "execute_result"
    }
   ],
   "source": [
    "# tuple값 바꾸기\n",
    "tu = list(tu) \n",
    "tu[2] = 3.14\n",
    "tu = tuple(tu)\n",
    "tu"
   ]
  },
  {
   "cell_type": "code",
   "execution_count": 1,
   "id": "b80a996b",
   "metadata": {},
   "outputs": [],
   "source": [
    "tu = (23, \"abc\", 4.56, (2, 3), \"def\")\n",
    "li = [\"abc\", 34, 4.34, 23]\n",
    "li[2] = 3.14"
   ]
  },
  {
   "cell_type": "code",
   "execution_count": 2,
   "id": "d3452ba2",
   "metadata": {},
   "outputs": [
    {
     "data": {
      "text/plain": [
       "(23, 'abc', 3.14, (2, 3), 'def')"
      ]
     },
     "execution_count": 2,
     "metadata": {},
     "output_type": "execute_result"
    }
   ],
   "source": [
    "tu = tu[:2] + (3.14,) + tu[3:] # equal -> tu = tu[:-3] + (3.14,) + tu[-2:]\n",
    "tu"
   ]
  },
  {
   "cell_type": "markdown",
   "id": "d83dd3a9",
   "metadata": {},
   "source": [
    "# 5. in"
   ]
  },
  {
   "cell_type": "code",
   "execution_count": 3,
   "id": "2a24298f",
   "metadata": {},
   "outputs": [
    {
     "data": {
      "text/plain": [
       "'def'"
      ]
     },
     "execution_count": 3,
     "metadata": {},
     "output_type": "execute_result"
    }
   ],
   "source": [
    "tu[-1]"
   ]
  },
  {
   "cell_type": "code",
   "execution_count": 4,
   "id": "a5fd49a4",
   "metadata": {},
   "outputs": [
    {
     "data": {
      "text/plain": [
       "False"
      ]
     },
     "execution_count": 4,
     "metadata": {},
     "output_type": "execute_result"
    }
   ],
   "source": [
    "(\"abc\", 3.14) in tu"
   ]
  },
  {
   "cell_type": "code",
   "execution_count": 5,
   "id": "001efd0d",
   "metadata": {},
   "outputs": [
    {
     "data": {
      "text/plain": [
       "False"
      ]
     },
     "execution_count": 5,
     "metadata": {},
     "output_type": "execute_result"
    }
   ],
   "source": [
    "a = \"abcde\"\n",
    "\"ac\" in a"
   ]
  },
  {
   "cell_type": "code",
   "execution_count": 7,
   "id": "49d575fb",
   "metadata": {},
   "outputs": [
    {
     "data": {
      "text/plain": [
       "True"
      ]
     },
     "execution_count": 7,
     "metadata": {},
     "output_type": "execute_result"
    }
   ],
   "source": [
    "# 문자알이 연속일 때만 된다.\n",
    "a = \"abcde\"\n",
    "\"ab\" in a"
   ]
  },
  {
   "cell_type": "markdown",
   "id": "9e32cd1e",
   "metadata": {},
   "source": [
    "# 6. List"
   ]
  },
  {
   "cell_type": "code",
   "execution_count": 8,
   "id": "51de0e7b",
   "metadata": {},
   "outputs": [
    {
     "data": {
      "text/plain": [
       "(1, 2, 3, 4, 5, 6)"
      ]
     },
     "execution_count": 8,
     "metadata": {},
     "output_type": "execute_result"
    }
   ],
   "source": [
    "(1, 2, 3,) + (4, 5, 6)"
   ]
  },
  {
   "cell_type": "code",
   "execution_count": 9,
   "id": "4e3db1a8",
   "metadata": {},
   "outputs": [
    {
     "data": {
      "text/plain": [
       "[1, 2, 3, 4, 5, 6]"
      ]
     },
     "execution_count": 9,
     "metadata": {},
     "output_type": "execute_result"
    }
   ],
   "source": [
    "[1, 2, 3] + [4, 5, 6]"
   ]
  },
  {
   "cell_type": "code",
   "execution_count": 22,
   "id": "cf5e04e2",
   "metadata": {},
   "outputs": [
    {
     "data": {
      "text/plain": [
       "[5, 7, 9]"
      ]
     },
     "execution_count": 22,
     "metadata": {},
     "output_type": "execute_result"
    }
   ],
   "source": [
    "a = [1, 2, 3]\n",
    "b = [4, 5, 6]\n",
    "c = [a[i] + b[i] for i in range(len(a))]\n",
    "c"
   ]
  },
  {
   "cell_type": "code",
   "execution_count": 19,
   "id": "35aef256",
   "metadata": {},
   "outputs": [
    {
     "data": {
      "text/plain": [
       "[5, 7, 9]"
      ]
     },
     "execution_count": 19,
     "metadata": {},
     "output_type": "execute_result"
    }
   ],
   "source": [
    "d = list(map(lambda x, y: x + y, a, b))\n",
    "d"
   ]
  },
  {
   "cell_type": "markdown",
   "id": "b54e659e",
   "metadata": {},
   "source": [
    "# 7. Dict"
   ]
  },
  {
   "cell_type": "code",
   "execution_count": 23,
   "id": "99250e7a",
   "metadata": {},
   "outputs": [
    {
     "data": {
      "text/plain": [
       "'bozo'"
      ]
     },
     "execution_count": 23,
     "metadata": {},
     "output_type": "execute_result"
    }
   ],
   "source": [
    "d = { \"user\":\"bozo\", \"pswd\":1234 }\n",
    "d[\"user\"]"
   ]
  },
  {
   "cell_type": "code",
   "execution_count": 24,
   "id": "e9d4d6ff",
   "metadata": {},
   "outputs": [
    {
     "data": {
      "text/plain": [
       "1234"
      ]
     },
     "execution_count": 24,
     "metadata": {},
     "output_type": "execute_result"
    }
   ],
   "source": [
    "d[\"pswd\"]"
   ]
  },
  {
   "cell_type": "code",
   "execution_count": 26,
   "id": "7b10980e",
   "metadata": {},
   "outputs": [
    {
     "data": {
      "text/plain": [
       "'clown'"
      ]
     },
     "execution_count": 26,
     "metadata": {},
     "output_type": "execute_result"
    }
   ],
   "source": [
    "d[\"user\"] = \"clown\"\n",
    "d[\"user\"]"
   ]
  },
  {
   "cell_type": "code",
   "execution_count": 27,
   "id": "e50f8db8",
   "metadata": {},
   "outputs": [
    {
     "data": {
      "text/plain": [
       "{'pswd': 1234, 'id': 'user'}"
      ]
     },
     "execution_count": 27,
     "metadata": {},
     "output_type": "execute_result"
    }
   ],
   "source": [
    "d[\"id\"] = \"user\"\n",
    "del d[\"user\"]\n",
    "d"
   ]
  },
  {
   "cell_type": "code",
   "execution_count": 29,
   "id": "eb0acaf8",
   "metadata": {},
   "outputs": [
    {
     "data": {
      "text/plain": [
       "{}"
      ]
     },
     "execution_count": 29,
     "metadata": {},
     "output_type": "execute_result"
    }
   ],
   "source": [
    "d.clear()\n",
    "d"
   ]
  },
  {
   "cell_type": "markdown",
   "id": "b4bb3800",
   "metadata": {},
   "source": [
    "# 8. Function"
   ]
  },
  {
   "cell_type": "code",
   "execution_count": 30,
   "id": "e12a7fb7",
   "metadata": {},
   "outputs": [
    {
     "data": {
      "text/plain": [
       "6"
      ]
     },
     "execution_count": 30,
     "metadata": {},
     "output_type": "execute_result"
    }
   ],
   "source": [
    "def times(x, y):\n",
    "    return x*y\n",
    "times(2, 3)"
   ]
  },
  {
   "cell_type": "code",
   "execution_count": 32,
   "id": "e28217c2",
   "metadata": {},
   "outputs": [
    {
     "name": "stdout",
     "output_type": "stream",
     "text": [
      "a:5, b:['hi', 1, 2, 3]\n"
     ]
    }
   ],
   "source": [
    "def change(x, y):\n",
    "    x = 2\n",
    "    y[0] = \"hi\"\n",
    "    \n",
    "a = 5\n",
    "b = [\"heewook\", 1, 2, 3]\n",
    "change(a, b)\n",
    "print(f\"a:{a}, b:{b}\")"
   ]
  },
  {
   "cell_type": "code",
   "execution_count": 35,
   "id": "4a0266da",
   "metadata": {},
   "outputs": [
    {
     "name": "stdout",
     "output_type": "stream",
     "text": [
      "a:5, b:['heewook', 1, 2, 3]\n"
     ]
    }
   ],
   "source": [
    "import copy\n",
    "a = 5\n",
    "b = [\"heewook\", 1, 2, 3]\n",
    "change(copy.deepcopy(a), copy.deepcopy(b))\n",
    "print(f\"a:{a}, b:{b}\")"
   ]
  },
  {
   "cell_type": "code",
   "execution_count": 37,
   "id": "ea61b77f",
   "metadata": {},
   "outputs": [
    {
     "name": "stdout",
     "output_type": "stream",
     "text": [
      "a:5, b:['heewook', 1, 2, 3]\n"
     ]
    }
   ],
   "source": [
    "a = 5\n",
    "b = [\"heewook\", 1, 2, 3]\n",
    "change(a, b[:])\n",
    "print(f\"a:{a}, b:{b}\")"
   ]
  },
  {
   "cell_type": "markdown",
   "id": "b607fa04",
   "metadata": {},
   "source": [
    "# 9. range"
   ]
  },
  {
   "cell_type": "code",
   "execution_count": 47,
   "id": "4ba3f546",
   "metadata": {},
   "outputs": [
    {
     "name": "stdout",
     "output_type": "stream",
     "text": [
      "1.35 µs ± 14.4 ns per loop (mean ± std. dev. of 7 runs, 1000000 loops each)\n"
     ]
    }
   ],
   "source": [
    "%timeit list(range(15, 4, -5))"
   ]
  },
  {
   "cell_type": "code",
   "execution_count": 48,
   "id": "4156e6c8",
   "metadata": {},
   "outputs": [
    {
     "name": "stdout",
     "output_type": "stream",
     "text": [
      "1.67 µs ± 9.31 ns per loop (mean ± std. dev. of 7 runs, 1000000 loops each)\n"
     ]
    }
   ],
   "source": [
    "%timeit [i for i in range(15, 4, -5)]"
   ]
  },
  {
   "cell_type": "code",
   "execution_count": 46,
   "id": "0cdc27f5",
   "metadata": {},
   "outputs": [
    {
     "data": {
      "text/plain": [
       "[4, 6, 8, 10, 12, 14, 16, 18, 20]"
      ]
     },
     "execution_count": 46,
     "metadata": {},
     "output_type": "execute_result"
    }
   ],
   "source": [
    "list(range(4, 21, 2))"
   ]
  },
  {
   "cell_type": "code",
   "execution_count": 50,
   "id": "8f16385d",
   "metadata": {},
   "outputs": [
    {
     "name": "stdout",
     "output_type": "stream",
     "text": [
      "Still in the loop.\n",
      "Still in the loop.\n",
      "Still in the loop.\n",
      "Still in the loop.\n",
      "Still in the loop.\n",
      "Still in the loop.\n",
      "Still in the loop.\n",
      "Still in the loop.\n",
      "Outside of the loop.   8\n"
     ]
    }
   ],
   "source": [
    "for x in range(10):\n",
    "    if x > 7:\n",
    "        x += 2\n",
    "        continue\n",
    "    \n",
    "    x += 1\n",
    "    print(\"Still in the loop.\")\n",
    "    if x == 8:\n",
    "        break\n",
    "        \n",
    "print(\"Outside of the loop.  \", x)"
   ]
  },
  {
   "cell_type": "code",
   "execution_count": 59,
   "id": "b0f119f0",
   "metadata": {},
   "outputs": [
    {
     "name": "stdout",
     "output_type": "stream",
     "text": [
      "Still in the loop.\n",
      "Still in the loop.\n",
      "Still in the loop.\n",
      "Still in the loop.\n",
      "Still in the loop.\n",
      "Still in the loop.\n",
      "Still in the loop.\n",
      "Still in the loop.\n",
      "Outside of t he loop.    8\n"
     ]
    }
   ],
   "source": [
    "x = 0\n",
    "while (x < 8):\n",
    "    if x > 7:\n",
    "        x += 2\n",
    "        continue\n",
    "    x += 1\n",
    "    print(\"Still in the loop.\")\n",
    "\n",
    "print(\"Outside of t he loop.   \", x)"
   ]
  },
  {
   "cell_type": "code",
   "execution_count": 52,
   "id": "eea652db",
   "metadata": {},
   "outputs": [
    {
     "name": "stdout",
     "output_type": "stream",
     "text": [
      "Hello Sam\n",
      "Hello Pit\n",
      "Hello Misch\n"
     ]
    }
   ],
   "source": [
    "mynames = [\"Sam\", \"Pit\", \"Misch\"]\n",
    "for n in mynames:\n",
    "    print(f\"Hello {n}\")"
   ]
  },
  {
   "cell_type": "code",
   "execution_count": 56,
   "id": "51a02b76",
   "metadata": {},
   "outputs": [
    {
     "name": "stdout",
     "output_type": "stream",
     "text": [
      "num_list : [0, 1, 2, 3, 4, 5, 6, 7, 8, 9]\n",
      "num_dict : {65: 'A', 66: 'B', 67: 'C'}\n",
      "num_set : {'A', 'C', 'B'}\n"
     ]
    }
   ],
   "source": [
    "num_list = list(range(10))\n",
    "num_list = [i for i in range(10)]\n",
    "num_dict = {i:chr(i) for i in range(65, 68)}\n",
    "num_set = {chr(i) for i in range(65, 68)}\n",
    "print(f\"num_list : {num_list}\\nnum_dict : {num_dict}\\nnum_set : {num_set}\")\n",
    "# immutable 자라형들은 제네레에테로 만들어저며 해당 식을 가진 채로 next로 호출된다.\""
   ]
  },
  {
   "cell_type": "markdown",
   "id": "ecf9d4b5",
   "metadata": {},
   "source": [
    "# 7. Module"
   ]
  },
  {
   "cell_type": "code",
   "execution_count": 60,
   "id": "5f690921",
   "metadata": {},
   "outputs": [],
   "source": [
    "import bar"
   ]
  },
  {
   "cell_type": "code",
   "execution_count": 64,
   "id": "41833f94",
   "metadata": {},
   "outputs": [
    {
     "data": {
      "text/plain": [
       "'Linguistics'"
      ]
     },
     "execution_count": 64,
     "metadata": {},
     "output_type": "execute_result"
    }
   ],
   "source": [
    "bar.department"
   ]
  },
  {
   "cell_type": "code",
   "execution_count": 65,
   "id": "a8937b9a",
   "metadata": {},
   "outputs": [
    {
     "data": {
      "text/plain": [
       "'UMass'"
      ]
     },
     "execution_count": 65,
     "metadata": {},
     "output_type": "execute_result"
    }
   ],
   "source": [
    "bar.university"
   ]
  },
  {
   "cell_type": "code",
   "execution_count": 66,
   "id": "8938363d",
   "metadata": {},
   "outputs": [],
   "source": [
    "from bar import university, department"
   ]
  },
  {
   "cell_type": "code",
   "execution_count": 67,
   "id": "10043809",
   "metadata": {},
   "outputs": [
    {
     "data": {
      "text/plain": [
       "('UMass', 'Linguistics')"
      ]
     },
     "execution_count": 67,
     "metadata": {},
     "output_type": "execute_result"
    }
   ],
   "source": [
    "university, department"
   ]
  },
  {
   "cell_type": "markdown",
   "id": "a41d7906",
   "metadata": {},
   "source": [
    "# 8. TensorFlow"
   ]
  },
  {
   "cell_type": "code",
   "execution_count": 68,
   "id": "80a85735",
   "metadata": {},
   "outputs": [
    {
     "name": "stdout",
     "output_type": "stream",
     "text": [
      "WARNING:tensorflow:Deprecation warnings have been disabled. Set TF_ENABLE_DEPRECATION_WARNINGS=1 to re-enable them.\n"
     ]
    }
   ],
   "source": [
    "import tensorflow as tf"
   ]
  },
  {
   "cell_type": "code",
   "execution_count": 69,
   "id": "ad254c18",
   "metadata": {},
   "outputs": [
    {
     "data": {
      "text/plain": [
       "<tf.Tensor 'Const:0' shape=() dtype=int32>"
      ]
     },
     "execution_count": 69,
     "metadata": {},
     "output_type": "execute_result"
    }
   ],
   "source": [
    "scalar1 = tf.constant(10000)\n",
    "scalar1"
   ]
  },
  {
   "cell_type": "code",
   "execution_count": 70,
   "id": "a884528f",
   "metadata": {},
   "outputs": [
    {
     "data": {
      "text/plain": [
       "<tf.Tensor 'Const_1:0' shape=(5,) dtype=int32>"
      ]
     },
     "execution_count": 70,
     "metadata": {},
     "output_type": "execute_result"
    }
   ],
   "source": [
    "vector1 = tf.constant([1, 2, 3, 4, 5])\n",
    "vector1"
   ]
  },
  {
   "cell_type": "code",
   "execution_count": 72,
   "id": "5a522f2f",
   "metadata": {},
   "outputs": [
    {
     "data": {
      "text/plain": [
       "<tf.Tensor 'Const_3:0' shape=(2, 3) dtype=int32>"
      ]
     },
     "execution_count": 72,
     "metadata": {},
     "output_type": "execute_result"
    }
   ],
   "source": [
    "matrix1 = tf.constant([[1,2,3], [4,5,6]])\n",
    "matrix1"
   ]
  },
  {
   "cell_type": "code",
   "execution_count": 74,
   "id": "4caf6d69",
   "metadata": {},
   "outputs": [
    {
     "data": {
      "text/plain": [
       "<tf.Tensor 'Const_4:0' shape=(3, 3, 1) dtype=int32>"
      ]
     },
     "execution_count": 74,
     "metadata": {},
     "output_type": "execute_result"
    }
   ],
   "source": [
    "cube1 = tf.constant([[[1], [2], [3]], [[4],[5],[6]], [[7],[8],[9]]])\n",
    "cube1"
   ]
  },
  {
   "cell_type": "code",
   "execution_count": 83,
   "id": "9d494380",
   "metadata": {},
   "outputs": [
    {
     "data": {
      "text/plain": [
       "3"
      ]
     },
     "execution_count": 83,
     "metadata": {},
     "output_type": "execute_result"
    }
   ],
   "source": [
    "cube1._rank() # rank 확인"
   ]
  },
  {
   "cell_type": "code",
   "execution_count": 79,
   "id": "0703f7b8",
   "metadata": {},
   "outputs": [
    {
     "data": {
      "text/plain": [
       "<tf.Tensor 'Const_9:0' shape=(1, 2) dtype=float32>"
      ]
     },
     "execution_count": 79,
     "metadata": {},
     "output_type": "execute_result"
    }
   ],
   "source": [
    "matrix1 = tf.constant([[3., 3.]])\n",
    "matrix1"
   ]
  },
  {
   "cell_type": "code",
   "execution_count": 80,
   "id": "a180c81b",
   "metadata": {},
   "outputs": [
    {
     "data": {
      "text/plain": [
       "<tf.Tensor 'Const_10:0' shape=(2, 1) dtype=float32>"
      ]
     },
     "execution_count": 80,
     "metadata": {},
     "output_type": "execute_result"
    }
   ],
   "source": [
    "matrix2 = tf.constant([[2.], [2.]])\n",
    "matrix2"
   ]
  },
  {
   "cell_type": "code",
   "execution_count": 85,
   "id": "0cd6ff70",
   "metadata": {},
   "outputs": [
    {
     "data": {
      "text/plain": [
       "<tf.Tensor 'MatMul_2:0' shape=(1, 1) dtype=float32>"
      ]
     },
     "execution_count": 85,
     "metadata": {},
     "output_type": "execute_result"
    }
   ],
   "source": [
    "product = tf.matmul(matrix1, matrix2)\n",
    "product\n",
    "# Default graph는 constant 2개와 matmul 1개의 노드 즉, 3개의 노도를 갖고 있다."
   ]
  },
  {
   "cell_type": "code",
   "execution_count": 87,
   "id": "5e061b3e",
   "metadata": {},
   "outputs": [
    {
     "name": "stdout",
     "output_type": "stream",
     "text": [
      "[[12.]]\n"
     ]
    }
   ],
   "source": [
    "import numpy as np\n",
    "m1 = np.array([[3., 3.]])\n",
    "m2 = np.array([[2.], [2.]])\n",
    "p = np.matmul(m1, m2)\n",
    "print(p)"
   ]
  },
  {
   "cell_type": "code",
   "execution_count": 5,
   "id": "eda9cbc9",
   "metadata": {},
   "outputs": [
    {
     "name": "stdout",
     "output_type": "stream",
     "text": [
      "[[12.]]\n"
     ]
    }
   ],
   "source": [
    "import tensorflow as tf\n",
    "tf.disable_eager_execution()\n",
    "matrix1 = tf.constant([[3., 3.]])\n",
    "matrix2 = tf.constant([[2.], [2.]])\n",
    "product = tf.matmul(matrix1, matrix2)\n",
    "with tf.Session() as sess:\n",
    "    print(sess.run(product))"
   ]
  },
  {
   "cell_type": "code",
   "execution_count": 2,
   "id": "ebaceadc",
   "metadata": {},
   "outputs": [
    {
     "data": {
      "text/plain": [
       "<tf.Tensor: id=5, shape=(1, 1), dtype=float32, numpy=array([[12.]], dtype=float32)>"
      ]
     },
     "execution_count": 2,
     "metadata": {},
     "output_type": "execute_result"
    }
   ],
   "source": [
    "import tensorflow as tf\n",
    "# Session 없이 하는 방법 laze mode\n",
    "tf.enable_eager_execution() # tf version 2, multi GPU 에서 쓰면 안된다. session도 안된다.\n",
    "matrix1 = tf.constant([[3., 3.]])\n",
    "matrix2 = tf.constant([[2.], [2.]])\n",
    "product = tf.matmul(matrix1, matrix2)\n",
    "product"
   ]
  },
  {
   "cell_type": "code",
   "execution_count": 3,
   "id": "e2f68240",
   "metadata": {},
   "outputs": [],
   "source": [
    "tf.disable_eager_execution()"
   ]
  },
  {
   "cell_type": "code",
   "execution_count": null,
   "id": "e812cef6",
   "metadata": {},
   "outputs": [],
   "source": []
  }
 ],
 "metadata": {
  "kernelspec": {
   "display_name": "Python 3",
   "language": "python",
   "name": "python3"
  },
  "language_info": {
   "codemirror_mode": {
    "name": "ipython",
    "version": 3
   },
   "file_extension": ".py",
   "mimetype": "text/x-python",
   "name": "python",
   "nbconvert_exporter": "python",
   "pygments_lexer": "ipython3",
   "version": "3.6.9"
  }
 },
 "nbformat": 4,
 "nbformat_minor": 5
}
